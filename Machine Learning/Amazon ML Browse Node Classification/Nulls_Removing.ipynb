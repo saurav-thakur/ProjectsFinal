{
  "nbformat": 4,
  "nbformat_minor": 0,
  "metadata": {
    "colab": {
      "name": "Nulls Removing.ipynb",
      "provenance": []
    },
    "kernelspec": {
      "display_name": "Python 3",
      "name": "python3"
    },
    "language_info": {
      "name": "python"
    }
  },
  "cells": [
    {
      "cell_type": "code",
      "metadata": {
        "colab": {
          "base_uri": "https://localhost:8080/"
        },
        "id": "9xbsQPIFrmyq",
        "outputId": "c310e689-b6a0-4b8c-d25c-08e24243cc04"
      },
      "source": [
        "from google.colab import drive\n",
        "drive.mount('/content/drive')"
      ],
      "execution_count": null,
      "outputs": [
        {
          "output_type": "stream",
          "text": [
            "Mounted at /content/drive\n"
          ],
          "name": "stdout"
        }
      ]
    },
    {
      "cell_type": "code",
      "metadata": {
        "id": "piFzELhIrnaP"
      },
      "source": [
        "import numpy as np\n",
        "import pandas as pd\n",
        "import matplotlib.pyplot as plt\n",
        "import seaborn as sns\n",
        "import csv"
      ],
      "execution_count": null,
      "outputs": []
    },
    {
      "cell_type": "code",
      "metadata": {
        "id": "R8zbU5bCBlH-"
      },
      "source": [
        "\n",
        "pd.set_option('display.max_columns', None)\n",
        "pd.set_option('display.max_rows', None)"
      ],
      "execution_count": null,
      "outputs": []
    },
    {
      "cell_type": "code",
      "metadata": {
        "colab": {
          "base_uri": "https://localhost:8080/"
        },
        "id": "0fHCHm9bkueq",
        "outputId": "85fd1f70-70ab-481c-bd17-abeb3afc1c8f"
      },
      "source": [
        "pd.set_option('display.max_colwidth', -1)"
      ],
      "execution_count": null,
      "outputs": [
        {
          "output_type": "stream",
          "text": [
            "/usr/local/lib/python3.7/dist-packages/ipykernel_launcher.py:1: FutureWarning: Passing a negative integer is deprecated in version 1.0 and will not be supported in future version. Instead, use None to not limit the column width.\n",
            "  \"\"\"Entry point for launching an IPython kernel.\n"
          ],
          "name": "stderr"
        }
      ]
    },
    {
      "cell_type": "markdown",
      "metadata": {
        "id": "ILYuy6KZsAu7"
      },
      "source": [
        "## ****Train Data**** "
      ]
    },
    {
      "cell_type": "code",
      "metadata": {
        "colab": {
          "base_uri": "https://localhost:8080/",
          "height": 204
        },
        "id": "4iiMO-uVr-Dw",
        "outputId": "e08b213f-96a0-4534-d436-3928e9ba3b21"
      },
      "source": [
        "df = pd.read_csv(\"/content/drive/MyDrive/dataset/train.csv\",escapechar = \"\\\\\",quoting = csv.QUOTE_NONE)\n",
        "df.head()"
      ],
      "execution_count": null,
      "outputs": [
        {
          "output_type": "execute_result",
          "data": {
            "text/html": [
              "<div>\n",
              "<style scoped>\n",
              "    .dataframe tbody tr th:only-of-type {\n",
              "        vertical-align: middle;\n",
              "    }\n",
              "\n",
              "    .dataframe tbody tr th {\n",
              "        vertical-align: top;\n",
              "    }\n",
              "\n",
              "    .dataframe thead th {\n",
              "        text-align: right;\n",
              "    }\n",
              "</style>\n",
              "<table border=\"1\" class=\"dataframe\">\n",
              "  <thead>\n",
              "    <tr style=\"text-align: right;\">\n",
              "      <th></th>\n",
              "      <th>TITLE</th>\n",
              "      <th>DESCRIPTION</th>\n",
              "      <th>BULLET_POINTS</th>\n",
              "      <th>BRAND</th>\n",
              "      <th>BROWSE_NODE_ID</th>\n",
              "    </tr>\n",
              "  </thead>\n",
              "  <tbody>\n",
              "    <tr>\n",
              "      <th>0</th>\n",
              "      <td>Pete The Cat Bedtime Blues Doll, 14.5 Inch</td>\n",
              "      <td>Pete the Cat is the coolest, most popular cat ...</td>\n",
              "      <td>[Pete the Cat Bedtime Blues plush doll,Based o...</td>\n",
              "      <td>MerryMakers</td>\n",
              "      <td>0</td>\n",
              "    </tr>\n",
              "    <tr>\n",
              "      <th>1</th>\n",
              "      <td>The New Yorker NYHM014 Refrigerator Magnet, 2 ...</td>\n",
              "      <td>The New Yorker Handsome Cello Wrapped Hard Mag...</td>\n",
              "      <td>[Cat In A Tea Cup by New Yorker cover artist G...</td>\n",
              "      <td>The New Yorker</td>\n",
              "      <td>1</td>\n",
              "    </tr>\n",
              "    <tr>\n",
              "      <th>2</th>\n",
              "      <td>The Ultimate Self-Sufficiency Handbook: A Comp...</td>\n",
              "      <td>NaN</td>\n",
              "      <td>Skyhorse Publishing</td>\n",
              "      <td>imusti</td>\n",
              "      <td>2</td>\n",
              "    </tr>\n",
              "    <tr>\n",
              "      <th>3</th>\n",
              "      <td>Amway Nutrilite Kids Chewable Iron Tablets (100)</td>\n",
              "      <td>NaN</td>\n",
              "      <td>[Nutrilite Kids,Chewable Iron Tablets,Quantity...</td>\n",
              "      <td>Amway</td>\n",
              "      <td>3</td>\n",
              "    </tr>\n",
              "    <tr>\n",
              "      <th>4</th>\n",
              "      <td>Teacher Planner Company A4 6 Lesson Academic T...</td>\n",
              "      <td>NaN</td>\n",
              "      <td>NaN</td>\n",
              "      <td>NaN</td>\n",
              "      <td>4</td>\n",
              "    </tr>\n",
              "  </tbody>\n",
              "</table>\n",
              "</div>"
            ],
            "text/plain": [
              "                                               TITLE  ... BROWSE_NODE_ID\n",
              "0         Pete The Cat Bedtime Blues Doll, 14.5 Inch  ...              0\n",
              "1  The New Yorker NYHM014 Refrigerator Magnet, 2 ...  ...              1\n",
              "2  The Ultimate Self-Sufficiency Handbook: A Comp...  ...              2\n",
              "3   Amway Nutrilite Kids Chewable Iron Tablets (100)  ...              3\n",
              "4  Teacher Planner Company A4 6 Lesson Academic T...  ...              4\n",
              "\n",
              "[5 rows x 5 columns]"
            ]
          },
          "metadata": {
            "tags": []
          },
          "execution_count": 3
        }
      ]
    },
    {
      "cell_type": "markdown",
      "metadata": {
        "id": "864PT-5t0BEI"
      },
      "source": [
        "## ****Test Data**** "
      ]
    },
    {
      "cell_type": "code",
      "metadata": {
        "colab": {
          "base_uri": "https://localhost:8080/",
          "height": 204
        },
        "id": "8YkRT7Xuz6s8",
        "outputId": "81e431a4-5869-473b-8928-ae0b9b3a122d"
      },
      "source": [
        "test_df = pd.read_csv(\"/content/drive/MyDrive/dataset/test.csv\",escapechar = \"\\\\\",quoting = csv.QUOTE_NONE)\n",
        "test_df.head()"
      ],
      "execution_count": null,
      "outputs": [
        {
          "output_type": "execute_result",
          "data": {
            "text/html": [
              "<div>\n",
              "<style scoped>\n",
              "    .dataframe tbody tr th:only-of-type {\n",
              "        vertical-align: middle;\n",
              "    }\n",
              "\n",
              "    .dataframe tbody tr th {\n",
              "        vertical-align: top;\n",
              "    }\n",
              "\n",
              "    .dataframe thead th {\n",
              "        text-align: right;\n",
              "    }\n",
              "</style>\n",
              "<table border=\"1\" class=\"dataframe\">\n",
              "  <thead>\n",
              "    <tr style=\"text-align: right;\">\n",
              "      <th></th>\n",
              "      <th>PRODUCT_ID</th>\n",
              "      <th>TITLE</th>\n",
              "      <th>DESCRIPTION</th>\n",
              "      <th>BULLET_POINTS</th>\n",
              "      <th>BRAND</th>\n",
              "    </tr>\n",
              "  </thead>\n",
              "  <tbody>\n",
              "    <tr>\n",
              "      <th>0</th>\n",
              "      <td>1</td>\n",
              "      <td>Command 3M Small Kitchen Hooks, White, Decorat...</td>\n",
              "      <td>Sale Unit: PACK</td>\n",
              "      <td>[INCLUDES - 9 hooks and 12 small indoor strips...</td>\n",
              "      <td>Command</td>\n",
              "    </tr>\n",
              "    <tr>\n",
              "      <th>1</th>\n",
              "      <td>2</td>\n",
              "      <td>O'Neal Jump Hardware JAG Unisex-Adult Glove (B...</td>\n",
              "      <td>Synthetic leather palm with double-layer thumb...</td>\n",
              "      <td>[Silicone printing for a better grip. Long las...</td>\n",
              "      <td>O'Neal</td>\n",
              "    </tr>\n",
              "    <tr>\n",
              "      <th>2</th>\n",
              "      <td>3</td>\n",
              "      <td>NFL Detroit Lions Portable Party Fridge, 15.8 ...</td>\n",
              "      <td>Boelter Brands lets you celebrate your favorit...</td>\n",
              "      <td>[Runs on 12 Volt DC Power or 110 Volt AC Power...</td>\n",
              "      <td>Boelter Brands</td>\n",
              "    </tr>\n",
              "    <tr>\n",
              "      <th>3</th>\n",
              "      <td>4</td>\n",
              "      <td>Panasonic Single Line KX-TS880MX Corded Phone ...</td>\n",
              "      <td>Features: 50 Station Phonebook Corded Phone Al...</td>\n",
              "      <td>Panasonic Landline Phones doesn't come with a ...</td>\n",
              "      <td>Panasonic</td>\n",
              "    </tr>\n",
              "    <tr>\n",
              "      <th>4</th>\n",
              "      <td>5</td>\n",
              "      <td>Zero Baby Girl's 100% Cotton Innerwear Bloomer...</td>\n",
              "      <td>Zero Baby Girl Panties Set. 100% Cotton, Breat...</td>\n",
              "      <td>[Zero Baby Girl Panties, Pack of 6, 100% Cotto...</td>\n",
              "      <td>Zero</td>\n",
              "    </tr>\n",
              "  </tbody>\n",
              "</table>\n",
              "</div>"
            ],
            "text/plain": [
              "   PRODUCT_ID  ...           BRAND\n",
              "0           1  ...         Command\n",
              "1           2  ...          O'Neal\n",
              "2           3  ...  Boelter Brands\n",
              "3           4  ...       Panasonic\n",
              "4           5  ...            Zero\n",
              "\n",
              "[5 rows x 5 columns]"
            ]
          },
          "metadata": {
            "tags": []
          },
          "execution_count": 3
        }
      ]
    },
    {
      "cell_type": "code",
      "metadata": {
        "id": "8fRbWUqUz6vZ",
        "colab": {
          "base_uri": "https://localhost:8080/"
        },
        "outputId": "0557f42b-5d16-4e6f-f489-19b677525653"
      },
      "source": [
        "test_df.isnull().sum()"
      ],
      "execution_count": null,
      "outputs": [
        {
          "output_type": "execute_result",
          "data": {
            "text/plain": [
              "PRODUCT_ID           0\n",
              "TITLE                7\n",
              "DESCRIPTION      10469\n",
              "BULLET_POINTS     6786\n",
              "BRAND             2430\n",
              "dtype: int64"
            ]
          },
          "metadata": {
            "tags": []
          },
          "execution_count": 4
        }
      ]
    },
    {
      "cell_type": "code",
      "metadata": {
        "id": "slJQSrapz6yU",
        "colab": {
          "base_uri": "https://localhost:8080/"
        },
        "outputId": "01883b06-242b-4662-924b-abc506095d42"
      },
      "source": [
        "test_df3 = test_df.replace(to_replace=np.nan,value=-1)\n",
        "test_df3.isnull().sum()"
      ],
      "execution_count": null,
      "outputs": [
        {
          "output_type": "execute_result",
          "data": {
            "text/plain": [
              "PRODUCT_ID       0\n",
              "TITLE            0\n",
              "DESCRIPTION      0\n",
              "BULLET_POINTS    0\n",
              "BRAND            0\n",
              "dtype: int64"
            ]
          },
          "metadata": {
            "tags": []
          },
          "execution_count": 15
        }
      ]
    },
    {
      "cell_type": "code",
      "metadata": {
        "id": "FXKiaS-lz60k"
      },
      "source": [
        "def replace_title_test_nan(df):\n",
        "  for i in range(len(df.TITLE)):\n",
        "    if df.TITLE[i] == -1:\n",
        "      df.TITLE[i] = df.BULLET_POINTS[i]\n",
        "  return df"
      ],
      "execution_count": null,
      "outputs": []
    },
    {
      "cell_type": "code",
      "metadata": {
        "colab": {
          "base_uri": "https://localhost:8080/"
        },
        "id": "mR-dq8Coeg14",
        "outputId": "7dffce02-70c8-44d8-acd8-e404516d4cea"
      },
      "source": [
        "test_df3 = test_df.replace(to_replace=-1,value=np.nan)\n",
        "test_df3.isnull().sum()"
      ],
      "execution_count": null,
      "outputs": [
        {
          "output_type": "execute_result",
          "data": {
            "text/plain": [
              "PRODUCT_ID           0\n",
              "TITLE                7\n",
              "DESCRIPTION      10469\n",
              "BULLET_POINTS     6786\n",
              "BRAND             2430\n",
              "dtype: int64"
            ]
          },
          "metadata": {
            "tags": []
          },
          "execution_count": 11
        }
      ]
    },
    {
      "cell_type": "code",
      "metadata": {
        "id": "wV72VFtDz63e",
        "colab": {
          "base_uri": "https://localhost:8080/"
        },
        "outputId": "3985a470-5364-4921-b82a-4f64346badff"
      },
      "source": [
        "new_test = replace_title_test_nan(test_df3)"
      ],
      "execution_count": null,
      "outputs": [
        {
          "output_type": "stream",
          "text": [
            "/usr/local/lib/python3.7/dist-packages/ipykernel_launcher.py:4: SettingWithCopyWarning: \n",
            "A value is trying to be set on a copy of a slice from a DataFrame\n",
            "\n",
            "See the caveats in the documentation: https://pandas.pydata.org/pandas-docs/stable/user_guide/indexing.html#returning-a-view-versus-a-copy\n",
            "  after removing the cwd from sys.path.\n"
          ],
          "name": "stderr"
        }
      ]
    },
    {
      "cell_type": "code",
      "metadata": {
        "colab": {
          "base_uri": "https://localhost:8080/"
        },
        "id": "v32hWVn4fUx4",
        "outputId": "bbe8c156-8528-4355-f3f1-1be794173589"
      },
      "source": [
        "new_test = new_test.replace(to_replace=-1,value=np.nan)\n",
        "new_test.isnull().sum()"
      ],
      "execution_count": null,
      "outputs": [
        {
          "output_type": "execute_result",
          "data": {
            "text/plain": [
              "PRODUCT_ID           0\n",
              "TITLE                0\n",
              "DESCRIPTION      10469\n",
              "BULLET_POINTS     6786\n",
              "BRAND             2430\n",
              "dtype: int64"
            ]
          },
          "metadata": {
            "tags": []
          },
          "execution_count": 19
        }
      ]
    },
    {
      "cell_type": "code",
      "metadata": {
        "id": "U_uVMUSv1xdG"
      },
      "source": [
        "new_test.to_csv(\"nulls_removed_test2.csv\",index=False)"
      ],
      "execution_count": null,
      "outputs": []
    },
    {
      "cell_type": "markdown",
      "metadata": {
        "id": "MOxNoAEP1RRh"
      },
      "source": [
        "## ****Exploring Data**** "
      ]
    },
    {
      "cell_type": "code",
      "metadata": {
        "id": "FbdNS8M0LoUw"
      },
      "source": [
        ""
      ],
      "execution_count": null,
      "outputs": []
    },
    {
      "cell_type": "code",
      "metadata": {
        "colab": {
          "base_uri": "https://localhost:8080/"
        },
        "id": "nF4r9eWG7hrf",
        "outputId": "78a477c8-950c-4248-c241-d8ad09160e6c"
      },
      "source": [
        "df.shape"
      ],
      "execution_count": null,
      "outputs": [
        {
          "output_type": "execute_result",
          "data": {
            "text/plain": [
              "(2903024, 5)"
            ]
          },
          "metadata": {
            "tags": []
          },
          "execution_count": 32
        }
      ]
    },
    {
      "cell_type": "code",
      "metadata": {
        "colab": {
          "base_uri": "https://localhost:8080/"
        },
        "id": "H4oq7pmeszTj",
        "outputId": "bd41a319-c4f4-4119-c3b6-9bec9678e54a"
      },
      "source": [
        "df.isnull().sum()"
      ],
      "execution_count": null,
      "outputs": [
        {
          "output_type": "execute_result",
          "data": {
            "text/plain": [
              "TITLE                 71\n",
              "DESCRIPTION       723664\n",
              "BULLET_POINTS     166263\n",
              "BRAND              56737\n",
              "BROWSE_NODE_ID         0\n",
              "dtype: int64"
            ]
          },
          "metadata": {
            "tags": []
          },
          "execution_count": 25
        }
      ]
    },
    {
      "cell_type": "code",
      "metadata": {
        "id": "NxN61GiVtvHL"
      },
      "source": [
        "nulls = df.isnull().sum()"
      ],
      "execution_count": null,
      "outputs": []
    },
    {
      "cell_type": "code",
      "metadata": {
        "id": "9CIF494rtlwE"
      },
      "source": [
        "def null_percentage(df):\n",
        "  nulls = df.isnull().sum()\n",
        "  for i,name in enumerate(df):\n",
        "    if nulls[i] > 0:\n",
        "      print(f\"The percentage of null value in {name} is {(nulls[i]/df.shape[0])*100}\")\n",
        "    else:\n",
        "      print(\"There are no null values\")\n"
      ],
      "execution_count": null,
      "outputs": []
    },
    {
      "cell_type": "code",
      "metadata": {
        "colab": {
          "base_uri": "https://localhost:8080/"
        },
        "id": "RYWUrC3UuJfE",
        "outputId": "69f0e23d-7968-4b4e-81e8-d2d9c3a86783"
      },
      "source": [
        "null_percentage(df)"
      ],
      "execution_count": null,
      "outputs": [
        {
          "output_type": "stream",
          "text": [
            "The percentage of null value in TITLE is 0.00244572556065675\n",
            "The percentage of null value in DESCRIPTION is 24.92793721305783\n",
            "The percentage of null value in BULLET_POINTS is 5.72723477311934\n",
            "The percentage of null value in BRAND is 1.9544102976758029\n"
          ],
          "name": "stdout"
        }
      ]
    },
    {
      "cell_type": "code",
      "metadata": {
        "colab": {
          "base_uri": "https://localhost:8080/",
          "height": 35
        },
        "id": "yJtSUh3JuK4o",
        "outputId": "7e1bccfa-7d2b-4d35-e51d-7d14b45b4d31"
      },
      "source": [
        "df.TITLE[5]"
      ],
      "execution_count": null,
      "outputs": [
        {
          "output_type": "execute_result",
          "data": {
            "application/vnd.google.colaboratory.intrinsic+json": {
              "type": "string"
            },
            "text/plain": [
              "\"Men'S Full Sleeve Raglan T-Shirts Denim T-Shirt M Size Only\""
            ]
          },
          "metadata": {
            "tags": []
          },
          "execution_count": 18
        }
      ]
    },
    {
      "cell_type": "code",
      "metadata": {
        "colab": {
          "base_uri": "https://localhost:8080/"
        },
        "id": "5M2mhR_Vzp0a",
        "outputId": "3a7d5682-59f3-4461-9589-c9adfc80e0cb"
      },
      "source": [
        "df.nunique()"
      ],
      "execution_count": null,
      "outputs": [
        {
          "output_type": "execute_result",
          "data": {
            "text/plain": [
              "TITLE             2751512\n",
              "DESCRIPTION       1278942\n",
              "BULLET_POINTS     1668898\n",
              "BRAND              258265\n",
              "BROWSE_NODE_ID       9919\n",
              "dtype: int64"
            ]
          },
          "metadata": {
            "tags": []
          },
          "execution_count": 26
        }
      ]
    },
    {
      "cell_type": "code",
      "metadata": {
        "colab": {
          "base_uri": "https://localhost:8080/"
        },
        "id": "4hnQ4fdY1a2V",
        "outputId": "b10fd0ff-1b23-46f5-ef3a-31ceacc5a4d7"
      },
      "source": [
        "df['BROWSE_NODE_ID'].unique()"
      ],
      "execution_count": null,
      "outputs": [
        {
          "output_type": "execute_result",
          "data": {
            "text/plain": [
              "array([      0,       1,       2, ..., 2847632, 2860317, 2893574])"
            ]
          },
          "metadata": {
            "tags": []
          },
          "execution_count": 29
        }
      ]
    },
    {
      "cell_type": "code",
      "metadata": {
        "colab": {
          "base_uri": "https://localhost:8080/"
        },
        "id": "gSwiY9EsBA8o",
        "outputId": "1329a30c-3312-479f-c82c-e552523657b4"
      },
      "source": [
        "len(df['BROWSE_NODE_ID'].unique())"
      ],
      "execution_count": null,
      "outputs": [
        {
          "output_type": "execute_result",
          "data": {
            "text/plain": [
              "9919"
            ]
          },
          "metadata": {
            "tags": []
          },
          "execution_count": 48
        }
      ]
    },
    {
      "cell_type": "code",
      "metadata": {
        "colab": {
          "base_uri": "https://localhost:8080/",
          "height": 204
        },
        "id": "VaZ7WD5T4GZy",
        "outputId": "0bfea0c8-0ca7-4ebf-9169-b7111a09292f"
      },
      "source": [
        "df.head()"
      ],
      "execution_count": null,
      "outputs": [
        {
          "output_type": "execute_result",
          "data": {
            "text/html": [
              "<div>\n",
              "<style scoped>\n",
              "    .dataframe tbody tr th:only-of-type {\n",
              "        vertical-align: middle;\n",
              "    }\n",
              "\n",
              "    .dataframe tbody tr th {\n",
              "        vertical-align: top;\n",
              "    }\n",
              "\n",
              "    .dataframe thead th {\n",
              "        text-align: right;\n",
              "    }\n",
              "</style>\n",
              "<table border=\"1\" class=\"dataframe\">\n",
              "  <thead>\n",
              "    <tr style=\"text-align: right;\">\n",
              "      <th></th>\n",
              "      <th>TITLE</th>\n",
              "      <th>DESCRIPTION</th>\n",
              "      <th>BULLET_POINTS</th>\n",
              "      <th>BRAND</th>\n",
              "      <th>BROWSE_NODE_ID</th>\n",
              "    </tr>\n",
              "  </thead>\n",
              "  <tbody>\n",
              "    <tr>\n",
              "      <th>0</th>\n",
              "      <td>Pete The Cat Bedtime Blues Doll, 14.5 Inch</td>\n",
              "      <td>Pete the Cat is the coolest, most popular cat ...</td>\n",
              "      <td>[Pete the Cat Bedtime Blues plush doll,Based o...</td>\n",
              "      <td>MerryMakers</td>\n",
              "      <td>0</td>\n",
              "    </tr>\n",
              "    <tr>\n",
              "      <th>1</th>\n",
              "      <td>The New Yorker NYHM014 Refrigerator Magnet, 2 ...</td>\n",
              "      <td>The New Yorker Handsome Cello Wrapped Hard Mag...</td>\n",
              "      <td>[Cat In A Tea Cup by New Yorker cover artist G...</td>\n",
              "      <td>The New Yorker</td>\n",
              "      <td>1</td>\n",
              "    </tr>\n",
              "    <tr>\n",
              "      <th>2</th>\n",
              "      <td>The Ultimate Self-Sufficiency Handbook: A Comp...</td>\n",
              "      <td>NaN</td>\n",
              "      <td>Skyhorse Publishing</td>\n",
              "      <td>imusti</td>\n",
              "      <td>2</td>\n",
              "    </tr>\n",
              "    <tr>\n",
              "      <th>3</th>\n",
              "      <td>Amway Nutrilite Kids Chewable Iron Tablets (100)</td>\n",
              "      <td>NaN</td>\n",
              "      <td>[Nutrilite Kids,Chewable Iron Tablets,Quantity...</td>\n",
              "      <td>Amway</td>\n",
              "      <td>3</td>\n",
              "    </tr>\n",
              "    <tr>\n",
              "      <th>4</th>\n",
              "      <td>Teacher Planner Company A4 6 Lesson Academic T...</td>\n",
              "      <td>NaN</td>\n",
              "      <td>NaN</td>\n",
              "      <td>NaN</td>\n",
              "      <td>4</td>\n",
              "    </tr>\n",
              "  </tbody>\n",
              "</table>\n",
              "</div>"
            ],
            "text/plain": [
              "                                               TITLE  \\\n",
              "0         Pete The Cat Bedtime Blues Doll, 14.5 Inch   \n",
              "1  The New Yorker NYHM014 Refrigerator Magnet, 2 ...   \n",
              "2  The Ultimate Self-Sufficiency Handbook: A Comp...   \n",
              "3   Amway Nutrilite Kids Chewable Iron Tablets (100)   \n",
              "4  Teacher Planner Company A4 6 Lesson Academic T...   \n",
              "\n",
              "                                         DESCRIPTION  \\\n",
              "0  Pete the Cat is the coolest, most popular cat ...   \n",
              "1  The New Yorker Handsome Cello Wrapped Hard Mag...   \n",
              "2                                                NaN   \n",
              "3                                                NaN   \n",
              "4                                                NaN   \n",
              "\n",
              "                                       BULLET_POINTS           BRAND  \\\n",
              "0  [Pete the Cat Bedtime Blues plush doll,Based o...     MerryMakers   \n",
              "1  [Cat In A Tea Cup by New Yorker cover artist G...  The New Yorker   \n",
              "2                                Skyhorse Publishing          imusti   \n",
              "3  [Nutrilite Kids,Chewable Iron Tablets,Quantity...           Amway   \n",
              "4                                                NaN             NaN   \n",
              "\n",
              "   BROWSE_NODE_ID  \n",
              "0               0  \n",
              "1               1  \n",
              "2               2  \n",
              "3               3  \n",
              "4               4  "
            ]
          },
          "metadata": {
            "tags": []
          },
          "execution_count": 55
        }
      ]
    },
    {
      "cell_type": "code",
      "metadata": {
        "colab": {
          "base_uri": "https://localhost:8080/"
        },
        "id": "uDTcWb587RUa",
        "outputId": "e8f85c2d-cdeb-4938-a6cd-74e84b377fb9"
      },
      "source": [
        "df.TITLE"
      ],
      "execution_count": null,
      "outputs": [
        {
          "output_type": "execute_result",
          "data": {
            "text/plain": [
              "0                 Pete The Cat Bedtime Blues Doll, 14.5 Inch\n",
              "1          The New Yorker NYHM014 Refrigerator Magnet, 2 ...\n",
              "2          The Ultimate Self-Sufficiency Handbook: A Comp...\n",
              "3           Amway Nutrilite Kids Chewable Iron Tablets (100)\n",
              "4          Teacher Planner Company A4 6 Lesson Academic T...\n",
              "                                 ...                        \n",
              "2903019    Premium Aviator Sunglasses - HD Polarized (Bri...\n",
              "2903020    Social Distance Stickers - Set of 5 Sticker Sl...\n",
              "2903021    Torr-to Face Shield PACK OF 5 with Adjustable ...\n",
              "2903022    Type-C to 3.5 MM for Oppo R17 Pro Type-C to 3....\n",
              "2903023                          KNG Orange Polo Tshirt (38)\n",
              "Name: TITLE, Length: 2903024, dtype: object"
            ]
          },
          "metadata": {
            "tags": []
          },
          "execution_count": 31
        }
      ]
    },
    {
      "cell_type": "code",
      "metadata": {
        "colab": {
          "base_uri": "https://localhost:8080/"
        },
        "id": "YPFRJEW0BD_g",
        "outputId": "8c63c0ef-49ba-44a0-deb2-843994323366"
      },
      "source": [
        "len(df2.BROWSE_NODE_ID.unique())"
      ],
      "execution_count": null,
      "outputs": [
        {
          "output_type": "execute_result",
          "data": {
            "text/plain": [
              "9691"
            ]
          },
          "metadata": {
            "tags": []
          },
          "execution_count": 53
        }
      ]
    },
    {
      "cell_type": "code",
      "metadata": {
        "colab": {
          "base_uri": "https://localhost:8080/",
          "height": 359
        },
        "id": "_hU7tgQ79YHC",
        "outputId": "cf4e3cb8-de05-4f2c-8f8a-9ef55ddf7b32"
      },
      "source": [
        "df.head(10)"
      ],
      "execution_count": null,
      "outputs": [
        {
          "output_type": "execute_result",
          "data": {
            "text/html": [
              "<div>\n",
              "<style scoped>\n",
              "    .dataframe tbody tr th:only-of-type {\n",
              "        vertical-align: middle;\n",
              "    }\n",
              "\n",
              "    .dataframe tbody tr th {\n",
              "        vertical-align: top;\n",
              "    }\n",
              "\n",
              "    .dataframe thead th {\n",
              "        text-align: right;\n",
              "    }\n",
              "</style>\n",
              "<table border=\"1\" class=\"dataframe\">\n",
              "  <thead>\n",
              "    <tr style=\"text-align: right;\">\n",
              "      <th></th>\n",
              "      <th>TITLE</th>\n",
              "      <th>DESCRIPTION</th>\n",
              "      <th>BULLET_POINTS</th>\n",
              "      <th>BRAND</th>\n",
              "      <th>BROWSE_NODE_ID</th>\n",
              "    </tr>\n",
              "  </thead>\n",
              "  <tbody>\n",
              "    <tr>\n",
              "      <th>0</th>\n",
              "      <td>Pete The Cat Bedtime Blues Doll, 14.5 Inch</td>\n",
              "      <td>Pete the Cat is the coolest, most popular cat ...</td>\n",
              "      <td>[Pete the Cat Bedtime Blues plush doll,Based o...</td>\n",
              "      <td>MerryMakers</td>\n",
              "      <td>0</td>\n",
              "    </tr>\n",
              "    <tr>\n",
              "      <th>1</th>\n",
              "      <td>The New Yorker NYHM014 Refrigerator Magnet, 2 ...</td>\n",
              "      <td>The New Yorker Handsome Cello Wrapped Hard Mag...</td>\n",
              "      <td>[Cat In A Tea Cup by New Yorker cover artist G...</td>\n",
              "      <td>The New Yorker</td>\n",
              "      <td>1</td>\n",
              "    </tr>\n",
              "    <tr>\n",
              "      <th>2</th>\n",
              "      <td>The Ultimate Self-Sufficiency Handbook: A Comp...</td>\n",
              "      <td>NaN</td>\n",
              "      <td>Skyhorse Publishing</td>\n",
              "      <td>imusti</td>\n",
              "      <td>2</td>\n",
              "    </tr>\n",
              "    <tr>\n",
              "      <th>3</th>\n",
              "      <td>Amway Nutrilite Kids Chewable Iron Tablets (100)</td>\n",
              "      <td>NaN</td>\n",
              "      <td>[Nutrilite Kids,Chewable Iron Tablets,Quantity...</td>\n",
              "      <td>Amway</td>\n",
              "      <td>3</td>\n",
              "    </tr>\n",
              "    <tr>\n",
              "      <th>4</th>\n",
              "      <td>Teacher Planner Company A4 6 Lesson Academic T...</td>\n",
              "      <td>NaN</td>\n",
              "      <td>NaN</td>\n",
              "      <td>NaN</td>\n",
              "      <td>4</td>\n",
              "    </tr>\n",
              "    <tr>\n",
              "      <th>5</th>\n",
              "      <td>Men'S Full Sleeve Raglan T-Shirts Denim T-Shir...</td>\n",
              "      <td>Men'S Full Sleeve Raglan T-Shirts Denim T-Shir...</td>\n",
              "      <td>[Color: Blue,Sleeve: Full Sleeve,Material: Cot...</td>\n",
              "      <td>Bhavya Enterprise</td>\n",
              "      <td>5</td>\n",
              "    </tr>\n",
              "    <tr>\n",
              "      <th>6</th>\n",
              "      <td>Glance Women's Wallet (Black) (LW-21)</td>\n",
              "      <td>This Black wallet by Glance will be a treasure...</td>\n",
              "      <td>[The Most Comfortable Women's Wallet That You ...</td>\n",
              "      <td>Glance</td>\n",
              "      <td>6</td>\n",
              "    </tr>\n",
              "    <tr>\n",
              "      <th>7</th>\n",
              "      <td>Wild Animals Hungry Brain Educational Flash Ca...</td>\n",
              "      <td>Wild Animals are the animals that mostly stays...</td>\n",
              "      <td>[Playful learning: Flash cards develops the lo...</td>\n",
              "      <td>hungry brain</td>\n",
              "      <td>7</td>\n",
              "    </tr>\n",
              "    <tr>\n",
              "      <th>8</th>\n",
              "      <td>Hindi Barakhadi Educational Flash Cards for Ki...</td>\n",
              "      <td>Hindi vowel signs and sounds are very importan...</td>\n",
              "      <td>[Playful learning: Flash cards develops the lo...</td>\n",
              "      <td>hungry brain</td>\n",
              "      <td>7</td>\n",
              "    </tr>\n",
              "    <tr>\n",
              "      <th>9</th>\n",
              "      <td>Chapin 1380 Premier Pro 3-Gallon Tri-Poxy Stee...</td>\n",
              "      <td>Chapin 1380 Premier Pro 3-Gallon Tri-Poxy Stee...</td>\n",
              "      <td>NaN</td>\n",
              "      <td>Chapin International</td>\n",
              "      <td>9</td>\n",
              "    </tr>\n",
              "  </tbody>\n",
              "</table>\n",
              "</div>"
            ],
            "text/plain": [
              "                                               TITLE  ... BROWSE_NODE_ID\n",
              "0         Pete The Cat Bedtime Blues Doll, 14.5 Inch  ...              0\n",
              "1  The New Yorker NYHM014 Refrigerator Magnet, 2 ...  ...              1\n",
              "2  The Ultimate Self-Sufficiency Handbook: A Comp...  ...              2\n",
              "3   Amway Nutrilite Kids Chewable Iron Tablets (100)  ...              3\n",
              "4  Teacher Planner Company A4 6 Lesson Academic T...  ...              4\n",
              "5  Men'S Full Sleeve Raglan T-Shirts Denim T-Shir...  ...              5\n",
              "6              Glance Women's Wallet (Black) (LW-21)  ...              6\n",
              "7  Wild Animals Hungry Brain Educational Flash Ca...  ...              7\n",
              "8  Hindi Barakhadi Educational Flash Cards for Ki...  ...              7\n",
              "9  Chapin 1380 Premier Pro 3-Gallon Tri-Poxy Stee...  ...              9\n",
              "\n",
              "[10 rows x 5 columns]"
            ]
          },
          "metadata": {
            "tags": []
          },
          "execution_count": 36
        }
      ]
    },
    {
      "cell_type": "code",
      "metadata": {
        "colab": {
          "base_uri": "https://localhost:8080/",
          "height": 49
        },
        "id": "VmcQonZL9snR",
        "outputId": "1faeac31-1a15-4a08-92a8-4d04598578e3"
      },
      "source": [
        "df[df.TITLE == \"NaN\"]"
      ],
      "execution_count": null,
      "outputs": [
        {
          "output_type": "execute_result",
          "data": {
            "text/html": [
              "<div>\n",
              "<style scoped>\n",
              "    .dataframe tbody tr th:only-of-type {\n",
              "        vertical-align: middle;\n",
              "    }\n",
              "\n",
              "    .dataframe tbody tr th {\n",
              "        vertical-align: top;\n",
              "    }\n",
              "\n",
              "    .dataframe thead th {\n",
              "        text-align: right;\n",
              "    }\n",
              "</style>\n",
              "<table border=\"1\" class=\"dataframe\">\n",
              "  <thead>\n",
              "    <tr style=\"text-align: right;\">\n",
              "      <th></th>\n",
              "      <th>TITLE</th>\n",
              "      <th>DESCRIPTION</th>\n",
              "      <th>BULLET_POINTS</th>\n",
              "      <th>BRAND</th>\n",
              "      <th>BROWSE_NODE_ID</th>\n",
              "    </tr>\n",
              "  </thead>\n",
              "  <tbody>\n",
              "  </tbody>\n",
              "</table>\n",
              "</div>"
            ],
            "text/plain": [
              "Empty DataFrame\n",
              "Columns: [TITLE, DESCRIPTION, BULLET_POINTS, BRAND, BROWSE_NODE_ID]\n",
              "Index: []"
            ]
          },
          "metadata": {
            "tags": []
          },
          "execution_count": 39
        }
      ]
    },
    {
      "cell_type": "code",
      "metadata": {
        "colab": {
          "base_uri": "https://localhost:8080/"
        },
        "id": "oFAkRSLb987t",
        "outputId": "0f40a905-deee-43ed-bf2b-37a0789332d2"
      },
      "source": [
        "df.info()"
      ],
      "execution_count": null,
      "outputs": [
        {
          "output_type": "stream",
          "text": [
            "<class 'pandas.core.frame.DataFrame'>\n",
            "RangeIndex: 2903024 entries, 0 to 2903023\n",
            "Data columns (total 5 columns):\n",
            " #   Column          Dtype \n",
            "---  ------          ----- \n",
            " 0   TITLE           object\n",
            " 1   DESCRIPTION     object\n",
            " 2   BULLET_POINTS   object\n",
            " 3   BRAND           object\n",
            " 4   BROWSE_NODE_ID  int64 \n",
            "dtypes: int64(1), object(4)\n",
            "memory usage: 110.7+ MB\n"
          ],
          "name": "stdout"
        }
      ]
    },
    {
      "cell_type": "code",
      "metadata": {
        "colab": {
          "base_uri": "https://localhost:8080/",
          "height": 419
        },
        "id": "kMb7TS4e-GsM",
        "outputId": "1c48f4fe-4dba-4b1b-f6b9-1cd25402429e"
      },
      "source": [
        "df[df.isnull()]"
      ],
      "execution_count": null,
      "outputs": [
        {
          "output_type": "execute_result",
          "data": {
            "text/html": [
              "<div>\n",
              "<style scoped>\n",
              "    .dataframe tbody tr th:only-of-type {\n",
              "        vertical-align: middle;\n",
              "    }\n",
              "\n",
              "    .dataframe tbody tr th {\n",
              "        vertical-align: top;\n",
              "    }\n",
              "\n",
              "    .dataframe thead th {\n",
              "        text-align: right;\n",
              "    }\n",
              "</style>\n",
              "<table border=\"1\" class=\"dataframe\">\n",
              "  <thead>\n",
              "    <tr style=\"text-align: right;\">\n",
              "      <th></th>\n",
              "      <th>TITLE</th>\n",
              "      <th>DESCRIPTION</th>\n",
              "      <th>BULLET_POINTS</th>\n",
              "      <th>BRAND</th>\n",
              "      <th>BROWSE_NODE_ID</th>\n",
              "    </tr>\n",
              "  </thead>\n",
              "  <tbody>\n",
              "    <tr>\n",
              "      <th>0</th>\n",
              "      <td>NaN</td>\n",
              "      <td>NaN</td>\n",
              "      <td>NaN</td>\n",
              "      <td>NaN</td>\n",
              "      <td>NaN</td>\n",
              "    </tr>\n",
              "    <tr>\n",
              "      <th>1</th>\n",
              "      <td>NaN</td>\n",
              "      <td>NaN</td>\n",
              "      <td>NaN</td>\n",
              "      <td>NaN</td>\n",
              "      <td>NaN</td>\n",
              "    </tr>\n",
              "    <tr>\n",
              "      <th>2</th>\n",
              "      <td>NaN</td>\n",
              "      <td>NaN</td>\n",
              "      <td>NaN</td>\n",
              "      <td>NaN</td>\n",
              "      <td>NaN</td>\n",
              "    </tr>\n",
              "    <tr>\n",
              "      <th>3</th>\n",
              "      <td>NaN</td>\n",
              "      <td>NaN</td>\n",
              "      <td>NaN</td>\n",
              "      <td>NaN</td>\n",
              "      <td>NaN</td>\n",
              "    </tr>\n",
              "    <tr>\n",
              "      <th>4</th>\n",
              "      <td>NaN</td>\n",
              "      <td>NaN</td>\n",
              "      <td>NaN</td>\n",
              "      <td>NaN</td>\n",
              "      <td>NaN</td>\n",
              "    </tr>\n",
              "    <tr>\n",
              "      <th>...</th>\n",
              "      <td>...</td>\n",
              "      <td>...</td>\n",
              "      <td>...</td>\n",
              "      <td>...</td>\n",
              "      <td>...</td>\n",
              "    </tr>\n",
              "    <tr>\n",
              "      <th>2903019</th>\n",
              "      <td>NaN</td>\n",
              "      <td>NaN</td>\n",
              "      <td>NaN</td>\n",
              "      <td>NaN</td>\n",
              "      <td>NaN</td>\n",
              "    </tr>\n",
              "    <tr>\n",
              "      <th>2903020</th>\n",
              "      <td>NaN</td>\n",
              "      <td>NaN</td>\n",
              "      <td>NaN</td>\n",
              "      <td>NaN</td>\n",
              "      <td>NaN</td>\n",
              "    </tr>\n",
              "    <tr>\n",
              "      <th>2903021</th>\n",
              "      <td>NaN</td>\n",
              "      <td>NaN</td>\n",
              "      <td>NaN</td>\n",
              "      <td>NaN</td>\n",
              "      <td>NaN</td>\n",
              "    </tr>\n",
              "    <tr>\n",
              "      <th>2903022</th>\n",
              "      <td>NaN</td>\n",
              "      <td>NaN</td>\n",
              "      <td>NaN</td>\n",
              "      <td>NaN</td>\n",
              "      <td>NaN</td>\n",
              "    </tr>\n",
              "    <tr>\n",
              "      <th>2903023</th>\n",
              "      <td>NaN</td>\n",
              "      <td>NaN</td>\n",
              "      <td>NaN</td>\n",
              "      <td>NaN</td>\n",
              "      <td>NaN</td>\n",
              "    </tr>\n",
              "  </tbody>\n",
              "</table>\n",
              "<p>2903024 rows × 5 columns</p>\n",
              "</div>"
            ],
            "text/plain": [
              "        TITLE DESCRIPTION BULLET_POINTS BRAND  BROWSE_NODE_ID\n",
              "0         NaN         NaN           NaN   NaN             NaN\n",
              "1         NaN         NaN           NaN   NaN             NaN\n",
              "2         NaN         NaN           NaN   NaN             NaN\n",
              "3         NaN         NaN           NaN   NaN             NaN\n",
              "4         NaN         NaN           NaN   NaN             NaN\n",
              "...       ...         ...           ...   ...             ...\n",
              "2903019   NaN         NaN           NaN   NaN             NaN\n",
              "2903020   NaN         NaN           NaN   NaN             NaN\n",
              "2903021   NaN         NaN           NaN   NaN             NaN\n",
              "2903022   NaN         NaN           NaN   NaN             NaN\n",
              "2903023   NaN         NaN           NaN   NaN             NaN\n",
              "\n",
              "[2903024 rows x 5 columns]"
            ]
          },
          "metadata": {
            "tags": []
          },
          "execution_count": 47
        }
      ]
    },
    {
      "cell_type": "code",
      "metadata": {
        "colab": {
          "base_uri": "https://localhost:8080/"
        },
        "id": "OJePaZlO_-ae",
        "outputId": "961b175d-8f3c-4576-e7e3-86054113a0f4"
      },
      "source": [
        "df.iloc[3]"
      ],
      "execution_count": null,
      "outputs": [
        {
          "output_type": "execute_result",
          "data": {
            "text/plain": [
              "TITLE              Amway Nutrilite Kids Chewable Iron Tablets (100)\n",
              "DESCRIPTION                                                     NaN\n",
              "BULLET_POINTS     [Nutrilite Kids,Chewable Iron Tablets,Quantity...\n",
              "BRAND                                                         Amway\n",
              "BROWSE_NODE_ID                                                    3\n",
              "Name: 3, dtype: object"
            ]
          },
          "metadata": {
            "tags": []
          },
          "execution_count": 57
        }
      ]
    },
    {
      "cell_type": "code",
      "metadata": {
        "colab": {
          "base_uri": "https://localhost:8080/"
        },
        "id": "8ww87UpYDdr8",
        "outputId": "b622a096-bccb-4ce5-8612-39c2507ea8e6"
      },
      "source": [
        "df.iloc[2]"
      ],
      "execution_count": null,
      "outputs": [
        {
          "output_type": "execute_result",
          "data": {
            "text/plain": [
              "TITLE             The Ultimate Self-Sufficiency Handbook: A Comp...\n",
              "DESCRIPTION                                                     NaN\n",
              "BULLET_POINTS                                   Skyhorse Publishing\n",
              "BRAND                                                        imusti\n",
              "BROWSE_NODE_ID                                                    2\n",
              "Name: 2, dtype: object"
            ]
          },
          "metadata": {
            "tags": []
          },
          "execution_count": 58
        }
      ]
    },
    {
      "cell_type": "code",
      "metadata": {
        "colab": {
          "base_uri": "https://localhost:8080/"
        },
        "id": "YDeR6ww2DoZd",
        "outputId": "33badd3b-a645-44c3-a56e-b93ee6459643"
      },
      "source": [
        "df.iloc[1]"
      ],
      "execution_count": null,
      "outputs": [
        {
          "output_type": "execute_result",
          "data": {
            "text/plain": [
              "TITLE             The New Yorker NYHM014 Refrigerator Magnet, 2 ...\n",
              "DESCRIPTION       The New Yorker Handsome Cello Wrapped Hard Mag...\n",
              "BULLET_POINTS     [Cat In A Tea Cup by New Yorker cover artist G...\n",
              "BRAND                                                The New Yorker\n",
              "BROWSE_NODE_ID                                                    1\n",
              "Name: 1, dtype: object"
            ]
          },
          "metadata": {
            "tags": []
          },
          "execution_count": 59
        }
      ]
    },
    {
      "cell_type": "code",
      "metadata": {
        "colab": {
          "base_uri": "https://localhost:8080/"
        },
        "id": "gQVvJXm1Dr-w",
        "outputId": "4e774d08-e3cc-4f30-b7c8-888cca5e1ede"
      },
      "source": [
        "df.DESCRIPTION[2] == \"nan\""
      ],
      "execution_count": null,
      "outputs": [
        {
          "output_type": "execute_result",
          "data": {
            "text/plain": [
              "False"
            ]
          },
          "metadata": {
            "tags": []
          },
          "execution_count": 64
        }
      ]
    },
    {
      "cell_type": "code",
      "metadata": {
        "colab": {
          "base_uri": "https://localhost:8080/"
        },
        "id": "DlYCZMIVD4cB",
        "outputId": "09b04412-9bd8-4625-d734-82f89b99608d"
      },
      "source": [
        "df.isnull().sum()"
      ],
      "execution_count": null,
      "outputs": [
        {
          "output_type": "execute_result",
          "data": {
            "text/plain": [
              "TITLE                 71\n",
              "DESCRIPTION       723664\n",
              "BULLET_POINTS     166263\n",
              "BRAND              56737\n",
              "BROWSE_NODE_ID         0\n",
              "dtype: int64"
            ]
          },
          "metadata": {
            "tags": []
          },
          "execution_count": 66
        }
      ]
    },
    {
      "cell_type": "code",
      "metadata": {
        "colab": {
          "base_uri": "https://localhost:8080/",
          "height": 419
        },
        "id": "SI-NNO3ZEayV",
        "outputId": "ffc61671-e2c1-4895-f10b-e35fe8cc3652"
      },
      "source": [
        "df[df.TITLE.isnull()]"
      ],
      "execution_count": null,
      "outputs": [
        {
          "output_type": "execute_result",
          "data": {
            "text/html": [
              "<div>\n",
              "<style scoped>\n",
              "    .dataframe tbody tr th:only-of-type {\n",
              "        vertical-align: middle;\n",
              "    }\n",
              "\n",
              "    .dataframe tbody tr th {\n",
              "        vertical-align: top;\n",
              "    }\n",
              "\n",
              "    .dataframe thead th {\n",
              "        text-align: right;\n",
              "    }\n",
              "</style>\n",
              "<table border=\"1\" class=\"dataframe\">\n",
              "  <thead>\n",
              "    <tr style=\"text-align: right;\">\n",
              "      <th></th>\n",
              "      <th>TITLE</th>\n",
              "      <th>DESCRIPTION</th>\n",
              "      <th>BULLET_POINTS</th>\n",
              "      <th>BRAND</th>\n",
              "      <th>BROWSE_NODE_ID</th>\n",
              "    </tr>\n",
              "  </thead>\n",
              "  <tbody>\n",
              "    <tr>\n",
              "      <th>12687</th>\n",
              "      <td>NaN</td>\n",
              "      <td>Shop from a wide range of Shirt from MANQ. Per...</td>\n",
              "      <td>[Fabric: 70% Cotton; 30% Polyester,Style: Regu...</td>\n",
              "      <td>MANQ</td>\n",
              "      <td>1254</td>\n",
              "    </tr>\n",
              "    <tr>\n",
              "      <th>39229</th>\n",
              "      <td>NaN</td>\n",
              "      <td>-1 Heavy Copper Winding Electric Drill Machine...</td>\n",
              "      <td>[-1 Heavy Copper Winding Electric Drill Machin...</td>\n",
              "      <td>DONGCHENG</td>\n",
              "      <td>3230</td>\n",
              "    </tr>\n",
              "    <tr>\n",
              "      <th>47841</th>\n",
              "      <td>NaN</td>\n",
              "      <td>This is a handcrafted product made from leathe...</td>\n",
              "      <td>NaN</td>\n",
              "      <td>NaN</td>\n",
              "      <td>918</td>\n",
              "    </tr>\n",
              "    <tr>\n",
              "      <th>79427</th>\n",
              "      <td>NaN</td>\n",
              "      <td>Bra Extender give you a little extra band leng...</td>\n",
              "      <td>Bra Extender Comes with 2 hook 3 line. Very So...</td>\n",
              "      <td>UHS</td>\n",
              "      <td>28876</td>\n",
              "    </tr>\n",
              "    <tr>\n",
              "      <th>133807</th>\n",
              "      <td>NaN</td>\n",
              "      <td>U.S.Polo Association Men Brown Solid Long Slee...</td>\n",
              "      <td>[Wool,Slim Fit,Solid,Casual,Gentle Hand Wash]</td>\n",
              "      <td>US Polo Association</td>\n",
              "      <td>2181</td>\n",
              "    </tr>\n",
              "    <tr>\n",
              "      <th>...</th>\n",
              "      <td>...</td>\n",
              "      <td>...</td>\n",
              "      <td>...</td>\n",
              "      <td>...</td>\n",
              "      <td>...</td>\n",
              "    </tr>\n",
              "    <tr>\n",
              "      <th>2718215</th>\n",
              "      <td>NaN</td>\n",
              "      <td>Verceys Multicolor Thread Silver Afgani Beauti...</td>\n",
              "      <td>[✔Brand : Verceys Fashion brings you direction...</td>\n",
              "      <td>Verceys</td>\n",
              "      <td>803</td>\n",
              "    </tr>\n",
              "    <tr>\n",
              "      <th>2730601</th>\n",
              "      <td>NaN</td>\n",
              "      <td>Remain highly mobile and professionally polish...</td>\n",
              "      <td>[Built-in Mesh pocket secures keys and wallet ...</td>\n",
              "      <td>Bareskin</td>\n",
              "      <td>1339</td>\n",
              "    </tr>\n",
              "    <tr>\n",
              "      <th>2797253</th>\n",
              "      <td>NaN</td>\n",
              "      <td>Spruce up your wardrobe with this dress from B...</td>\n",
              "      <td>[Pattern: Plain,Length: Knee Length]</td>\n",
              "      <td>BRATS N CATS</td>\n",
              "      <td>1687</td>\n",
              "    </tr>\n",
              "    <tr>\n",
              "      <th>2816194</th>\n",
              "      <td>NaN</td>\n",
              "      <td>NaN</td>\n",
              "      <td>NaN</td>\n",
              "      <td>NaN</td>\n",
              "      <td>4</td>\n",
              "    </tr>\n",
              "    <tr>\n",
              "      <th>2832274</th>\n",
              "      <td>NaN</td>\n",
              "      <td>NaN</td>\n",
              "      <td>NaN</td>\n",
              "      <td>MEENAZ</td>\n",
              "      <td>22</td>\n",
              "    </tr>\n",
              "  </tbody>\n",
              "</table>\n",
              "<p>71 rows × 5 columns</p>\n",
              "</div>"
            ],
            "text/plain": [
              "        TITLE  ... BROWSE_NODE_ID\n",
              "12687     NaN  ...           1254\n",
              "39229     NaN  ...           3230\n",
              "47841     NaN  ...            918\n",
              "79427     NaN  ...          28876\n",
              "133807    NaN  ...           2181\n",
              "...       ...  ...            ...\n",
              "2718215   NaN  ...            803\n",
              "2730601   NaN  ...           1339\n",
              "2797253   NaN  ...           1687\n",
              "2816194   NaN  ...              4\n",
              "2832274   NaN  ...             22\n",
              "\n",
              "[71 rows x 5 columns]"
            ]
          },
          "metadata": {
            "tags": []
          },
          "execution_count": 8
        }
      ]
    },
    {
      "cell_type": "code",
      "metadata": {
        "colab": {
          "base_uri": "https://localhost:8080/",
          "height": 419
        },
        "id": "h8Fl1be6EhfN",
        "outputId": "555a733f-2e9b-4721-fc9c-a978de5b413f"
      },
      "source": [
        "df[df.DESCRIPTION.isnull()]"
      ],
      "execution_count": null,
      "outputs": [
        {
          "output_type": "execute_result",
          "data": {
            "text/html": [
              "<div>\n",
              "<style scoped>\n",
              "    .dataframe tbody tr th:only-of-type {\n",
              "        vertical-align: middle;\n",
              "    }\n",
              "\n",
              "    .dataframe tbody tr th {\n",
              "        vertical-align: top;\n",
              "    }\n",
              "\n",
              "    .dataframe thead th {\n",
              "        text-align: right;\n",
              "    }\n",
              "</style>\n",
              "<table border=\"1\" class=\"dataframe\">\n",
              "  <thead>\n",
              "    <tr style=\"text-align: right;\">\n",
              "      <th></th>\n",
              "      <th>TITLE</th>\n",
              "      <th>DESCRIPTION</th>\n",
              "      <th>BULLET_POINTS</th>\n",
              "      <th>BRAND</th>\n",
              "      <th>BROWSE_NODE_ID</th>\n",
              "    </tr>\n",
              "  </thead>\n",
              "  <tbody>\n",
              "    <tr>\n",
              "      <th>2</th>\n",
              "      <td>The Ultimate Self-Sufficiency Handbook: A Comp...</td>\n",
              "      <td>NaN</td>\n",
              "      <td>Skyhorse Publishing</td>\n",
              "      <td>imusti</td>\n",
              "      <td>2</td>\n",
              "    </tr>\n",
              "    <tr>\n",
              "      <th>3</th>\n",
              "      <td>Amway Nutrilite Kids Chewable Iron Tablets (100)</td>\n",
              "      <td>NaN</td>\n",
              "      <td>[Nutrilite Kids,Chewable Iron Tablets,Quantity...</td>\n",
              "      <td>Amway</td>\n",
              "      <td>3</td>\n",
              "    </tr>\n",
              "    <tr>\n",
              "      <th>4</th>\n",
              "      <td>Teacher Planner Company A4 6 Lesson Academic T...</td>\n",
              "      <td>NaN</td>\n",
              "      <td>NaN</td>\n",
              "      <td>NaN</td>\n",
              "      <td>4</td>\n",
              "    </tr>\n",
              "    <tr>\n",
              "      <th>10</th>\n",
              "      <td>Slo-Niacin Polygel Controlled-Release Niacin, ...</td>\n",
              "      <td>NaN</td>\n",
              "      <td>NaN</td>\n",
              "      <td>NaN</td>\n",
              "      <td>10</td>\n",
              "    </tr>\n",
              "    <tr>\n",
              "      <th>12</th>\n",
              "      <td>Yamaha PCMSKIT Portable Electronic Keyboard Ad...</td>\n",
              "      <td>NaN</td>\n",
              "      <td>[Software teaches you how to play, read music,...</td>\n",
              "      <td>YAMAHA</td>\n",
              "      <td>12</td>\n",
              "    </tr>\n",
              "    <tr>\n",
              "      <th>...</th>\n",
              "      <td>...</td>\n",
              "      <td>...</td>\n",
              "      <td>...</td>\n",
              "      <td>...</td>\n",
              "      <td>...</td>\n",
              "    </tr>\n",
              "    <tr>\n",
              "      <th>2902902</th>\n",
              "      <td>Wooden 12 Glass Bedside</td>\n",
              "      <td>NaN</td>\n",
              "      <td>NaN</td>\n",
              "      <td>home by shekhavati</td>\n",
              "      <td>10779</td>\n",
              "    </tr>\n",
              "    <tr>\n",
              "      <th>2902975</th>\n",
              "      <td>Fruit of the Loom Men's Brief (Pack of 2)</td>\n",
              "      <td>NaN</td>\n",
              "      <td>[Product 1: Intellifresh Technology: Advance O...</td>\n",
              "      <td>Fruit of the Loom</td>\n",
              "      <td>1171</td>\n",
              "    </tr>\n",
              "    <tr>\n",
              "      <th>2902982</th>\n",
              "      <td>Oomph! Women’s Traditional Woven Polycotton Sa...</td>\n",
              "      <td>NaN</td>\n",
              "      <td>[Woven polycotton saree with contrast woven bo...</td>\n",
              "      <td>OOMPH!</td>\n",
              "      <td>1052</td>\n",
              "    </tr>\n",
              "    <tr>\n",
              "      <th>2902990</th>\n",
              "      <td>Mens Sports Terry Jacket Polyster (BLACL, Large)</td>\n",
              "      <td>NaN</td>\n",
              "      <td>NaN</td>\n",
              "      <td>Generic</td>\n",
              "      <td>890</td>\n",
              "    </tr>\n",
              "    <tr>\n",
              "      <th>2903002</th>\n",
              "      <td>Protectify® Vivo S1 Shock Proof Ring Stand Bac...</td>\n",
              "      <td>NaN</td>\n",
              "      <td>[Very nice Case,Very nice Case,Very nice Case,...</td>\n",
              "      <td>Protectify</td>\n",
              "      <td>1045</td>\n",
              "    </tr>\n",
              "  </tbody>\n",
              "</table>\n",
              "<p>723664 rows × 5 columns</p>\n",
              "</div>"
            ],
            "text/plain": [
              "                                                     TITLE  ... BROWSE_NODE_ID\n",
              "2        The Ultimate Self-Sufficiency Handbook: A Comp...  ...              2\n",
              "3         Amway Nutrilite Kids Chewable Iron Tablets (100)  ...              3\n",
              "4        Teacher Planner Company A4 6 Lesson Academic T...  ...              4\n",
              "10       Slo-Niacin Polygel Controlled-Release Niacin, ...  ...             10\n",
              "12       Yamaha PCMSKIT Portable Electronic Keyboard Ad...  ...             12\n",
              "...                                                    ...  ...            ...\n",
              "2902902                            Wooden 12 Glass Bedside  ...          10779\n",
              "2902975          Fruit of the Loom Men's Brief (Pack of 2)  ...           1171\n",
              "2902982  Oomph! Women’s Traditional Woven Polycotton Sa...  ...           1052\n",
              "2902990   Mens Sports Terry Jacket Polyster (BLACL, Large)  ...            890\n",
              "2903002  Protectify® Vivo S1 Shock Proof Ring Stand Bac...  ...           1045\n",
              "\n",
              "[723664 rows x 5 columns]"
            ]
          },
          "metadata": {
            "tags": []
          },
          "execution_count": 5
        }
      ]
    },
    {
      "cell_type": "code",
      "metadata": {
        "colab": {
          "base_uri": "https://localhost:8080/",
          "height": 419
        },
        "id": "xRPFyW5TFD40",
        "outputId": "ea7469ce-07e3-49c7-e499-dc46b76032a2"
      },
      "source": [
        "df[~df.DESCRIPTION.isnull()]"
      ],
      "execution_count": null,
      "outputs": [
        {
          "output_type": "execute_result",
          "data": {
            "text/html": [
              "<div>\n",
              "<style scoped>\n",
              "    .dataframe tbody tr th:only-of-type {\n",
              "        vertical-align: middle;\n",
              "    }\n",
              "\n",
              "    .dataframe tbody tr th {\n",
              "        vertical-align: top;\n",
              "    }\n",
              "\n",
              "    .dataframe thead th {\n",
              "        text-align: right;\n",
              "    }\n",
              "</style>\n",
              "<table border=\"1\" class=\"dataframe\">\n",
              "  <thead>\n",
              "    <tr style=\"text-align: right;\">\n",
              "      <th></th>\n",
              "      <th>TITLE</th>\n",
              "      <th>DESCRIPTION</th>\n",
              "      <th>BULLET_POINTS</th>\n",
              "      <th>BRAND</th>\n",
              "      <th>BROWSE_NODE_ID</th>\n",
              "    </tr>\n",
              "  </thead>\n",
              "  <tbody>\n",
              "    <tr>\n",
              "      <th>0</th>\n",
              "      <td>Pete The Cat Bedtime Blues Doll, 14.5 Inch</td>\n",
              "      <td>Pete the Cat is the coolest, most popular cat ...</td>\n",
              "      <td>[Pete the Cat Bedtime Blues plush doll,Based o...</td>\n",
              "      <td>MerryMakers</td>\n",
              "      <td>0</td>\n",
              "    </tr>\n",
              "    <tr>\n",
              "      <th>1</th>\n",
              "      <td>The New Yorker NYHM014 Refrigerator Magnet, 2 ...</td>\n",
              "      <td>The New Yorker Handsome Cello Wrapped Hard Mag...</td>\n",
              "      <td>[Cat In A Tea Cup by New Yorker cover artist G...</td>\n",
              "      <td>The New Yorker</td>\n",
              "      <td>1</td>\n",
              "    </tr>\n",
              "    <tr>\n",
              "      <th>5</th>\n",
              "      <td>Men'S Full Sleeve Raglan T-Shirts Denim T-Shir...</td>\n",
              "      <td>Men'S Full Sleeve Raglan T-Shirts Denim T-Shir...</td>\n",
              "      <td>[Color: Blue,Sleeve: Full Sleeve,Material: Cot...</td>\n",
              "      <td>Bhavya Enterprise</td>\n",
              "      <td>5</td>\n",
              "    </tr>\n",
              "    <tr>\n",
              "      <th>6</th>\n",
              "      <td>Glance Women's Wallet (Black) (LW-21)</td>\n",
              "      <td>This Black wallet by Glance will be a treasure...</td>\n",
              "      <td>[The Most Comfortable Women's Wallet That You ...</td>\n",
              "      <td>Glance</td>\n",
              "      <td>6</td>\n",
              "    </tr>\n",
              "    <tr>\n",
              "      <th>7</th>\n",
              "      <td>Wild Animals Hungry Brain Educational Flash Ca...</td>\n",
              "      <td>Wild Animals are the animals that mostly stays...</td>\n",
              "      <td>[Playful learning: Flash cards develops the lo...</td>\n",
              "      <td>hungry brain</td>\n",
              "      <td>7</td>\n",
              "    </tr>\n",
              "    <tr>\n",
              "      <th>...</th>\n",
              "      <td>...</td>\n",
              "      <td>...</td>\n",
              "      <td>...</td>\n",
              "      <td>...</td>\n",
              "      <td>...</td>\n",
              "    </tr>\n",
              "    <tr>\n",
              "      <th>2903019</th>\n",
              "      <td>Premium Aviator Sunglasses - HD Polarized (Bri...</td>\n",
              "      <td>These premium Aviator Sunglasses with 5 color ...</td>\n",
              "      <td>[Frame size: Lens height - 56mm, Lens width - ...</td>\n",
              "      <td>Generic</td>\n",
              "      <td>1040</td>\n",
              "    </tr>\n",
              "    <tr>\n",
              "      <th>2903020</th>\n",
              "      <td>Social Distance Stickers - Set of 5 Sticker Sl...</td>\n",
              "      <td>set of 5 prints social distancing sticker self...</td>\n",
              "      <td>[covid19 safety sticker - set of 5 to maintain...</td>\n",
              "      <td>Generic</td>\n",
              "      <td>15199</td>\n",
              "    </tr>\n",
              "    <tr>\n",
              "      <th>2903021</th>\n",
              "      <td>Torr-to Face Shield PACK OF 5 with Adjustable ...</td>\n",
              "      <td>* COMPLETE FACE PROTECTION: Torr-to Face Shiel...</td>\n",
              "      <td>[350 MICRONS PACK OF 5 PCS,COMPLETE FACE PROTE...</td>\n",
              "      <td>TORR-TO</td>\n",
              "      <td>1044933</td>\n",
              "    </tr>\n",
              "    <tr>\n",
              "      <th>2903022</th>\n",
              "      <td>Type-C to 3.5 MM for Oppo R17 Pro Type-C to 3....</td>\n",
              "      <td>Still want to use your favorite earphones/head...</td>\n",
              "      <td>[Indian Connectors: Made for Indian sockets, t...</td>\n",
              "      <td>SHOPBELL</td>\n",
              "      <td>14790</td>\n",
              "    </tr>\n",
              "    <tr>\n",
              "      <th>2903023</th>\n",
              "      <td>KNG Orange Polo Tshirt (38)</td>\n",
              "      <td>Performance inspired by comfort. The polo shir...</td>\n",
              "      <td>NaN</td>\n",
              "      <td>KNG</td>\n",
              "      <td>1213</td>\n",
              "    </tr>\n",
              "  </tbody>\n",
              "</table>\n",
              "<p>2179360 rows × 5 columns</p>\n",
              "</div>"
            ],
            "text/plain": [
              "                                                     TITLE  ... BROWSE_NODE_ID\n",
              "0               Pete The Cat Bedtime Blues Doll, 14.5 Inch  ...              0\n",
              "1        The New Yorker NYHM014 Refrigerator Magnet, 2 ...  ...              1\n",
              "5        Men'S Full Sleeve Raglan T-Shirts Denim T-Shir...  ...              5\n",
              "6                    Glance Women's Wallet (Black) (LW-21)  ...              6\n",
              "7        Wild Animals Hungry Brain Educational Flash Ca...  ...              7\n",
              "...                                                    ...  ...            ...\n",
              "2903019  Premium Aviator Sunglasses - HD Polarized (Bri...  ...           1040\n",
              "2903020  Social Distance Stickers - Set of 5 Sticker Sl...  ...          15199\n",
              "2903021  Torr-to Face Shield PACK OF 5 with Adjustable ...  ...        1044933\n",
              "2903022  Type-C to 3.5 MM for Oppo R17 Pro Type-C to 3....  ...          14790\n",
              "2903023                        KNG Orange Polo Tshirt (38)  ...           1213\n",
              "\n",
              "[2179360 rows x 5 columns]"
            ]
          },
          "metadata": {
            "tags": []
          },
          "execution_count": 6
        }
      ]
    },
    {
      "cell_type": "code",
      "metadata": {
        "colab": {
          "base_uri": "https://localhost:8080/",
          "height": 204
        },
        "id": "gJN63nRRHtSF",
        "outputId": "58c57770-b0cb-461e-862d-77e97e313dda"
      },
      "source": [
        "df.head()"
      ],
      "execution_count": null,
      "outputs": [
        {
          "output_type": "execute_result",
          "data": {
            "text/html": [
              "<div>\n",
              "<style scoped>\n",
              "    .dataframe tbody tr th:only-of-type {\n",
              "        vertical-align: middle;\n",
              "    }\n",
              "\n",
              "    .dataframe tbody tr th {\n",
              "        vertical-align: top;\n",
              "    }\n",
              "\n",
              "    .dataframe thead th {\n",
              "        text-align: right;\n",
              "    }\n",
              "</style>\n",
              "<table border=\"1\" class=\"dataframe\">\n",
              "  <thead>\n",
              "    <tr style=\"text-align: right;\">\n",
              "      <th></th>\n",
              "      <th>TITLE</th>\n",
              "      <th>DESCRIPTION</th>\n",
              "      <th>BULLET_POINTS</th>\n",
              "      <th>BRAND</th>\n",
              "      <th>BROWSE_NODE_ID</th>\n",
              "    </tr>\n",
              "  </thead>\n",
              "  <tbody>\n",
              "    <tr>\n",
              "      <th>0</th>\n",
              "      <td>Pete The Cat Bedtime Blues Doll, 14.5 Inch</td>\n",
              "      <td>Pete the Cat is the coolest, most popular cat ...</td>\n",
              "      <td>[Pete the Cat Bedtime Blues plush doll,Based o...</td>\n",
              "      <td>MerryMakers</td>\n",
              "      <td>0</td>\n",
              "    </tr>\n",
              "    <tr>\n",
              "      <th>1</th>\n",
              "      <td>The New Yorker NYHM014 Refrigerator Magnet, 2 ...</td>\n",
              "      <td>The New Yorker Handsome Cello Wrapped Hard Mag...</td>\n",
              "      <td>[Cat In A Tea Cup by New Yorker cover artist G...</td>\n",
              "      <td>The New Yorker</td>\n",
              "      <td>1</td>\n",
              "    </tr>\n",
              "    <tr>\n",
              "      <th>2</th>\n",
              "      <td>The Ultimate Self-Sufficiency Handbook: A Comp...</td>\n",
              "      <td>NaN</td>\n",
              "      <td>Skyhorse Publishing</td>\n",
              "      <td>imusti</td>\n",
              "      <td>2</td>\n",
              "    </tr>\n",
              "    <tr>\n",
              "      <th>3</th>\n",
              "      <td>Amway Nutrilite Kids Chewable Iron Tablets (100)</td>\n",
              "      <td>NaN</td>\n",
              "      <td>[Nutrilite Kids,Chewable Iron Tablets,Quantity...</td>\n",
              "      <td>Amway</td>\n",
              "      <td>3</td>\n",
              "    </tr>\n",
              "    <tr>\n",
              "      <th>4</th>\n",
              "      <td>Teacher Planner Company A4 6 Lesson Academic T...</td>\n",
              "      <td>NaN</td>\n",
              "      <td>NaN</td>\n",
              "      <td>NaN</td>\n",
              "      <td>4</td>\n",
              "    </tr>\n",
              "  </tbody>\n",
              "</table>\n",
              "</div>"
            ],
            "text/plain": [
              "                                               TITLE  ... BROWSE_NODE_ID\n",
              "0         Pete The Cat Bedtime Blues Doll, 14.5 Inch  ...              0\n",
              "1  The New Yorker NYHM014 Refrigerator Magnet, 2 ...  ...              1\n",
              "2  The Ultimate Self-Sufficiency Handbook: A Comp...  ...              2\n",
              "3   Amway Nutrilite Kids Chewable Iron Tablets (100)  ...              3\n",
              "4  Teacher Planner Company A4 6 Lesson Academic T...  ...              4\n",
              "\n",
              "[5 rows x 5 columns]"
            ]
          },
          "metadata": {
            "tags": []
          },
          "execution_count": 9
        }
      ]
    },
    {
      "cell_type": "code",
      "metadata": {
        "colab": {
          "base_uri": "https://localhost:8080/"
        },
        "id": "mipr39MzU8j3",
        "outputId": "f7cf8705-cdcb-4128-b164-f8c8052a94a6"
      },
      "source": [
        "df3 = df.replace(to_replace=np.nan,value=-1)\n",
        "df3.isnull().sum()"
      ],
      "execution_count": null,
      "outputs": [
        {
          "output_type": "execute_result",
          "data": {
            "text/plain": [
              "TITLE             0\n",
              "DESCRIPTION       0\n",
              "BULLET_POINTS     0\n",
              "BRAND             0\n",
              "BROWSE_NODE_ID    0\n",
              "dtype: int64"
            ]
          },
          "metadata": {
            "tags": []
          },
          "execution_count": 5
        }
      ]
    },
    {
      "cell_type": "code",
      "metadata": {
        "id": "jpeQxE9mVQWB"
      },
      "source": [
        "df3.head()"
      ],
      "execution_count": null,
      "outputs": []
    },
    {
      "cell_type": "code",
      "metadata": {
        "colab": {
          "base_uri": "https://localhost:8080/"
        },
        "id": "O796uhmITbgG",
        "outputId": "7b0943cc-fa96-4574-b0b3-32532d387934"
      },
      "source": [
        "df.TITLE.isnull().iloc[12687]"
      ],
      "execution_count": null,
      "outputs": [
        {
          "output_type": "execute_result",
          "data": {
            "text/plain": [
              "True"
            ]
          },
          "metadata": {
            "tags": []
          },
          "execution_count": 16
        }
      ]
    },
    {
      "cell_type": "code",
      "metadata": {
        "id": "WVdkr4riTe0N"
      },
      "source": [
        "def replace_title_nan(df):\n",
        "  for i in range(len(df.TITLE)):\n",
        "    if df.TITLE[i] == -1:\n",
        "      df.TITLE[i] = df.DESCRIPTION[i]\n",
        "  return df"
      ],
      "execution_count": null,
      "outputs": []
    },
    {
      "cell_type": "code",
      "metadata": {
        "colab": {
          "base_uri": "https://localhost:8080/"
        },
        "id": "bcw3uV1-WvTf",
        "outputId": "47f5e643-2b09-437c-f9c8-3ef9b5d8a30f"
      },
      "source": [
        "title_df = replace_title_nan(df3)"
      ],
      "execution_count": null,
      "outputs": [
        {
          "output_type": "stream",
          "text": [
            "/usr/local/lib/python3.7/dist-packages/ipykernel_launcher.py:4: SettingWithCopyWarning: \n",
            "A value is trying to be set on a copy of a slice from a DataFrame\n",
            "\n",
            "See the caveats in the documentation: https://pandas.pydata.org/pandas-docs/stable/user_guide/indexing.html#returning-a-view-versus-a-copy\n",
            "  after removing the cwd from sys.path.\n"
          ],
          "name": "stderr"
        }
      ]
    },
    {
      "cell_type": "code",
      "metadata": {
        "colab": {
          "base_uri": "https://localhost:8080/"
        },
        "id": "dnLzs0LrXau_",
        "outputId": "0daa8fd6-b261-4c85-dff0-2c1c184487b9"
      },
      "source": [
        "title_df.isnull().sum()"
      ],
      "execution_count": null,
      "outputs": [
        {
          "output_type": "execute_result",
          "data": {
            "text/plain": [
              "TITLE             0\n",
              "DESCRIPTION       0\n",
              "BULLET_POINTS     0\n",
              "BRAND             0\n",
              "BROWSE_NODE_ID    0\n",
              "dtype: int64"
            ]
          },
          "metadata": {
            "tags": []
          },
          "execution_count": 34
        }
      ]
    },
    {
      "cell_type": "code",
      "metadata": {
        "colab": {
          "base_uri": "https://localhost:8080/",
          "height": 483
        },
        "id": "WoDwBT4ZXjzd",
        "outputId": "e27dbe2e-5087-4015-8cea-4591ac086442"
      },
      "source": [
        "title_df[title_df.TITLE == -1]"
      ],
      "execution_count": null,
      "outputs": [
        {
          "output_type": "execute_result",
          "data": {
            "text/html": [
              "<div>\n",
              "<style scoped>\n",
              "    .dataframe tbody tr th:only-of-type {\n",
              "        vertical-align: middle;\n",
              "    }\n",
              "\n",
              "    .dataframe tbody tr th {\n",
              "        vertical-align: top;\n",
              "    }\n",
              "\n",
              "    .dataframe thead th {\n",
              "        text-align: right;\n",
              "    }\n",
              "</style>\n",
              "<table border=\"1\" class=\"dataframe\">\n",
              "  <thead>\n",
              "    <tr style=\"text-align: right;\">\n",
              "      <th></th>\n",
              "      <th>TITLE</th>\n",
              "      <th>DESCRIPTION</th>\n",
              "      <th>BULLET_POINTS</th>\n",
              "      <th>BRAND</th>\n",
              "      <th>BROWSE_NODE_ID</th>\n",
              "    </tr>\n",
              "  </thead>\n",
              "  <tbody>\n",
              "    <tr>\n",
              "      <th>494568</th>\n",
              "      <td>-1</td>\n",
              "      <td>-1</td>\n",
              "      <td>-1</td>\n",
              "      <td>-1</td>\n",
              "      <td>4</td>\n",
              "    </tr>\n",
              "    <tr>\n",
              "      <th>962130</th>\n",
              "      <td>-1</td>\n",
              "      <td>-1</td>\n",
              "      <td>-1</td>\n",
              "      <td>-1</td>\n",
              "      <td>4</td>\n",
              "    </tr>\n",
              "    <tr>\n",
              "      <th>972864</th>\n",
              "      <td>-1</td>\n",
              "      <td>-1</td>\n",
              "      <td>-1</td>\n",
              "      <td>-1</td>\n",
              "      <td>4</td>\n",
              "    </tr>\n",
              "    <tr>\n",
              "      <th>1107014</th>\n",
              "      <td>-1</td>\n",
              "      <td>-1</td>\n",
              "      <td>-1</td>\n",
              "      <td>-1</td>\n",
              "      <td>1409</td>\n",
              "    </tr>\n",
              "    <tr>\n",
              "      <th>1460540</th>\n",
              "      <td>-1</td>\n",
              "      <td>-1</td>\n",
              "      <td>[&lt;br&gt;Fabric: Cotton&lt;br&gt;,&lt;br&gt;Style: Regular&lt;br&gt;...</td>\n",
              "      <td>V3Squared</td>\n",
              "      <td>5</td>\n",
              "    </tr>\n",
              "    <tr>\n",
              "      <th>1732365</th>\n",
              "      <td>-1</td>\n",
              "      <td>-1</td>\n",
              "      <td>[IDEAL URBAN COMMUTE: 250 Watt 32nm Rear Hub M...</td>\n",
              "      <td>Lightspeed</td>\n",
              "      <td>19947</td>\n",
              "    </tr>\n",
              "    <tr>\n",
              "      <th>1844151</th>\n",
              "      <td>-1</td>\n",
              "      <td>-1</td>\n",
              "      <td>-1</td>\n",
              "      <td>-1</td>\n",
              "      <td>4</td>\n",
              "    </tr>\n",
              "    <tr>\n",
              "      <th>1961581</th>\n",
              "      <td>-1</td>\n",
              "      <td>-1</td>\n",
              "      <td>[Material:: Brasso,Material:: Grey,Work:: Heav...</td>\n",
              "      <td>VISHAL INDIA CRAFT</td>\n",
              "      <td>4</td>\n",
              "    </tr>\n",
              "    <tr>\n",
              "      <th>1983452</th>\n",
              "      <td>-1</td>\n",
              "      <td>-1</td>\n",
              "      <td>Pack Contents - 1 double bedsheet with 2 pillo...</td>\n",
              "      <td>BS EXPORTS</td>\n",
              "      <td>1084</td>\n",
              "    </tr>\n",
              "    <tr>\n",
              "      <th>2080564</th>\n",
              "      <td>-1</td>\n",
              "      <td>-1</td>\n",
              "      <td>-1</td>\n",
              "      <td>-1</td>\n",
              "      <td>4</td>\n",
              "    </tr>\n",
              "    <tr>\n",
              "      <th>2497281</th>\n",
              "      <td>-1</td>\n",
              "      <td>-1</td>\n",
              "      <td>-1</td>\n",
              "      <td>-1</td>\n",
              "      <td>4</td>\n",
              "    </tr>\n",
              "    <tr>\n",
              "      <th>2584359</th>\n",
              "      <td>-1</td>\n",
              "      <td>-1</td>\n",
              "      <td>-1</td>\n",
              "      <td>-1</td>\n",
              "      <td>4</td>\n",
              "    </tr>\n",
              "    <tr>\n",
              "      <th>2816194</th>\n",
              "      <td>-1</td>\n",
              "      <td>-1</td>\n",
              "      <td>-1</td>\n",
              "      <td>-1</td>\n",
              "      <td>4</td>\n",
              "    </tr>\n",
              "    <tr>\n",
              "      <th>2832274</th>\n",
              "      <td>-1</td>\n",
              "      <td>-1</td>\n",
              "      <td>-1</td>\n",
              "      <td>MEENAZ</td>\n",
              "      <td>22</td>\n",
              "    </tr>\n",
              "  </tbody>\n",
              "</table>\n",
              "</div>"
            ],
            "text/plain": [
              "        TITLE DESCRIPTION  ...               BRAND BROWSE_NODE_ID\n",
              "494568     -1          -1  ...                  -1              4\n",
              "962130     -1          -1  ...                  -1              4\n",
              "972864     -1          -1  ...                  -1              4\n",
              "1107014    -1          -1  ...                  -1           1409\n",
              "1460540    -1          -1  ...           V3Squared              5\n",
              "1732365    -1          -1  ...          Lightspeed          19947\n",
              "1844151    -1          -1  ...                  -1              4\n",
              "1961581    -1          -1  ...  VISHAL INDIA CRAFT              4\n",
              "1983452    -1          -1  ...          BS EXPORTS           1084\n",
              "2080564    -1          -1  ...                  -1              4\n",
              "2497281    -1          -1  ...                  -1              4\n",
              "2584359    -1          -1  ...                  -1              4\n",
              "2816194    -1          -1  ...                  -1              4\n",
              "2832274    -1          -1  ...              MEENAZ             22\n",
              "\n",
              "[14 rows x 5 columns]"
            ]
          },
          "metadata": {
            "tags": []
          },
          "execution_count": 35
        }
      ]
    },
    {
      "cell_type": "code",
      "metadata": {
        "colab": {
          "base_uri": "https://localhost:8080/",
          "height": 419
        },
        "id": "sA1SwVqJX-oe",
        "outputId": "fce8d000-abc2-47fc-d873-62b4a9ebc813"
      },
      "source": [
        "df[df['BRAND'] == \"MEENAZ\"]"
      ],
      "execution_count": null,
      "outputs": [
        {
          "output_type": "execute_result",
          "data": {
            "text/html": [
              "<div>\n",
              "<style scoped>\n",
              "    .dataframe tbody tr th:only-of-type {\n",
              "        vertical-align: middle;\n",
              "    }\n",
              "\n",
              "    .dataframe tbody tr th {\n",
              "        vertical-align: top;\n",
              "    }\n",
              "\n",
              "    .dataframe thead th {\n",
              "        text-align: right;\n",
              "    }\n",
              "</style>\n",
              "<table border=\"1\" class=\"dataframe\">\n",
              "  <thead>\n",
              "    <tr style=\"text-align: right;\">\n",
              "      <th></th>\n",
              "      <th>TITLE</th>\n",
              "      <th>DESCRIPTION</th>\n",
              "      <th>BULLET_POINTS</th>\n",
              "      <th>BRAND</th>\n",
              "      <th>BROWSE_NODE_ID</th>\n",
              "    </tr>\n",
              "  </thead>\n",
              "  <tbody>\n",
              "    <tr>\n",
              "      <th>1451</th>\n",
              "      <td>MEENAZ Mangalsutra Jewellery Set Combo Gold Pl...</td>\n",
              "      <td>Amaal is a Brand for men jewellery Cufflinks S...</td>\n",
              "      <td>[Fancy earrings for girls women for party wear...</td>\n",
              "      <td>MEENAZ</td>\n",
              "      <td>1451</td>\n",
              "    </tr>\n",
              "    <tr>\n",
              "      <th>2002</th>\n",
              "      <td>MEENAZ Jewellery Gold Plated Pearl Jhumka Earr...</td>\n",
              "      <td>MEENAZ is a top brand in fashion jewellery has...</td>\n",
              "      <td>[Fancy Pendant For Girls Women For Party Wear ...</td>\n",
              "      <td>MEENAZ</td>\n",
              "      <td>803</td>\n",
              "    </tr>\n",
              "    <tr>\n",
              "      <th>2927</th>\n",
              "      <td>MEENAZ Jewellery Pendant Set for Women Girls/N...</td>\n",
              "      <td>MEENAZ is a top brand in fashion jewellery has...</td>\n",
              "      <td>[Fancy Pendant For Girls Women For Party Wear ...</td>\n",
              "      <td>MEENAZ</td>\n",
              "      <td>876</td>\n",
              "    </tr>\n",
              "    <tr>\n",
              "      <th>19797</th>\n",
              "      <td>MEENAZ Traditional Jewellery Gold Oxodised Cha...</td>\n",
              "      <td>MEENAZ is a top brand in fashion jewellery has...</td>\n",
              "      <td>[Meenaz is a branded Jewellery having all vast...</td>\n",
              "      <td>MEENAZ</td>\n",
              "      <td>1149</td>\n",
              "    </tr>\n",
              "    <tr>\n",
              "      <th>22152</th>\n",
              "      <td>MEENAZ Fashion Jewellery Ear Rings Gold Stainl...</td>\n",
              "      <td>MEENAZ is a top brand in fashion jewellery has...</td>\n",
              "      <td>[Earrings for men boys mens man gents stylish ...</td>\n",
              "      <td>MEENAZ</td>\n",
              "      <td>1715</td>\n",
              "    </tr>\n",
              "    <tr>\n",
              "      <th>...</th>\n",
              "      <td>...</td>\n",
              "      <td>...</td>\n",
              "      <td>...</td>\n",
              "      <td>...</td>\n",
              "      <td>...</td>\n",
              "    </tr>\n",
              "    <tr>\n",
              "      <th>2875676</th>\n",
              "      <td>Meenaz Fancy Flower Ring Traditional Gold Ring...</td>\n",
              "      <td>THIS MEENAZ ARTISTICALLY CRAFTED RING IS MADE ...</td>\n",
              "      <td>[BRAND : MEENAZ,METAL : BRASS, BASE MATEL, ALL...</td>\n",
              "      <td>MEENAZ</td>\n",
              "      <td>22</td>\n",
              "    </tr>\n",
              "    <tr>\n",
              "      <th>2886088</th>\n",
              "      <td>MEENAZ Maharashtrian Traditional Temple Jewell...</td>\n",
              "      <td>MEENAZ Creatively designed this golden colour ...</td>\n",
              "      <td>[nath nose pin nathiya nose ring for wedding s...</td>\n",
              "      <td>MEENAZ</td>\n",
              "      <td>16753</td>\n",
              "    </tr>\n",
              "    <tr>\n",
              "      <th>2890062</th>\n",
              "      <td>Ganesha Ganapati Pendant with Chain in God Pen...</td>\n",
              "      <td>Meenaz is a top brand in fashion jewellery has...</td>\n",
              "      <td>[Pendant jewellery with in cz ad jewellery in ...</td>\n",
              "      <td>MEENAZ</td>\n",
              "      <td>25444</td>\n",
              "    </tr>\n",
              "    <tr>\n",
              "      <th>2890080</th>\n",
              "      <td>MEENAZ Pendant Jewellery Set Combo Silver Plat...</td>\n",
              "      <td>MEENAZ is a top brand in fashion jewellery has...</td>\n",
              "      <td>[Fancy earrings for girls women for party wear...</td>\n",
              "      <td>MEENAZ</td>\n",
              "      <td>876</td>\n",
              "    </tr>\n",
              "    <tr>\n",
              "      <th>2891537</th>\n",
              "      <td>MEENAZ Jewellery Pendant Set for Women Girls/N...</td>\n",
              "      <td>MEENAZ is a top brand in fashion jewellery has...</td>\n",
              "      <td>[Fancy Pendant For Girls Women For Party Wear ...</td>\n",
              "      <td>MEENAZ</td>\n",
              "      <td>876</td>\n",
              "    </tr>\n",
              "  </tbody>\n",
              "</table>\n",
              "<p>359 rows × 5 columns</p>\n",
              "</div>"
            ],
            "text/plain": [
              "                                                     TITLE  ... BROWSE_NODE_ID\n",
              "1451     MEENAZ Mangalsutra Jewellery Set Combo Gold Pl...  ...           1451\n",
              "2002     MEENAZ Jewellery Gold Plated Pearl Jhumka Earr...  ...            803\n",
              "2927     MEENAZ Jewellery Pendant Set for Women Girls/N...  ...            876\n",
              "19797    MEENAZ Traditional Jewellery Gold Oxodised Cha...  ...           1149\n",
              "22152    MEENAZ Fashion Jewellery Ear Rings Gold Stainl...  ...           1715\n",
              "...                                                    ...  ...            ...\n",
              "2875676  Meenaz Fancy Flower Ring Traditional Gold Ring...  ...             22\n",
              "2886088  MEENAZ Maharashtrian Traditional Temple Jewell...  ...          16753\n",
              "2890062  Ganesha Ganapati Pendant with Chain in God Pen...  ...          25444\n",
              "2890080  MEENAZ Pendant Jewellery Set Combo Silver Plat...  ...            876\n",
              "2891537  MEENAZ Jewellery Pendant Set for Women Girls/N...  ...            876\n",
              "\n",
              "[359 rows x 5 columns]"
            ]
          },
          "metadata": {
            "tags": []
          },
          "execution_count": 36
        }
      ]
    },
    {
      "cell_type": "code",
      "metadata": {
        "colab": {
          "base_uri": "https://localhost:8080/",
          "height": 483
        },
        "id": "sirmP5nIZev4",
        "outputId": "5ed75105-b51a-4020-9a39-e0fdf95ea8b6"
      },
      "source": [
        "df[df['BRAND'] == \"BS EXPORTS\"]"
      ],
      "execution_count": null,
      "outputs": [
        {
          "output_type": "execute_result",
          "data": {
            "text/html": [
              "<div>\n",
              "<style scoped>\n",
              "    .dataframe tbody tr th:only-of-type {\n",
              "        vertical-align: middle;\n",
              "    }\n",
              "\n",
              "    .dataframe tbody tr th {\n",
              "        vertical-align: top;\n",
              "    }\n",
              "\n",
              "    .dataframe thead th {\n",
              "        text-align: right;\n",
              "    }\n",
              "</style>\n",
              "<table border=\"1\" class=\"dataframe\">\n",
              "  <thead>\n",
              "    <tr style=\"text-align: right;\">\n",
              "      <th></th>\n",
              "      <th>TITLE</th>\n",
              "      <th>DESCRIPTION</th>\n",
              "      <th>BULLET_POINTS</th>\n",
              "      <th>BRAND</th>\n",
              "      <th>BROWSE_NODE_ID</th>\n",
              "    </tr>\n",
              "  </thead>\n",
              "  <tbody>\n",
              "    <tr>\n",
              "      <th>51410</th>\n",
              "      <td>BS EXPORTS Cotton 210TC Bedsheet (King_Pink)</td>\n",
              "      <td>NaN</td>\n",
              "      <td>[Material: Cotton, Thread Count: 210,Color: Mu...</td>\n",
              "      <td>BS EXPORTS</td>\n",
              "      <td>1084</td>\n",
              "    </tr>\n",
              "    <tr>\n",
              "      <th>52552</th>\n",
              "      <td>BS EXPORTS 210 TC Twill Cotton Double Bedsheet...</td>\n",
              "      <td>NaN</td>\n",
              "      <td>[Material:-Cotton Twill | Thread Count: 210 TC...</td>\n",
              "      <td>BS EXPORTS</td>\n",
              "      <td>1084</td>\n",
              "    </tr>\n",
              "    <tr>\n",
              "      <th>141311</th>\n",
              "      <td>BS EXPORTS Cotton 210TC Pillow Cover (18\"X27\"_...</td>\n",
              "      <td>NaN</td>\n",
              "      <td>[Color: Black, Size Name: Standard,Package Con...</td>\n",
              "      <td>BS EXPORTS</td>\n",
              "      <td>108</td>\n",
              "    </tr>\n",
              "    <tr>\n",
              "      <th>212830</th>\n",
              "      <td>BS EXPORTS Cotton 210TC Bedsheet (King_White)</td>\n",
              "      <td>NaN</td>\n",
              "      <td>[Color: White, Size Name: Single,Material: Sat...</td>\n",
              "      <td>BS EXPORTS</td>\n",
              "      <td>1084</td>\n",
              "    </tr>\n",
              "    <tr>\n",
              "      <th>430039</th>\n",
              "      <td>BS EXPORTS 104 TC Jaipuri Traditional Elephant...</td>\n",
              "      <td>NaN</td>\n",
              "      <td>[Color: Maroon Blue Red, Size Name: Double,CON...</td>\n",
              "      <td>BS EXPORTS</td>\n",
              "      <td>1084</td>\n",
              "    </tr>\n",
              "    <tr>\n",
              "      <th>733574</th>\n",
              "      <td>BS EXPORTS Jaipuri Traditional Mandala 144 TC ...</td>\n",
              "      <td>NaN</td>\n",
              "      <td>[Large size to make it easy to tuck-in below t...</td>\n",
              "      <td>BS EXPORTS</td>\n",
              "      <td>1084</td>\n",
              "    </tr>\n",
              "    <tr>\n",
              "      <th>1462402</th>\n",
              "      <td>BS EXPORTS Rangeela Rajasthan Cotton Queen Siz...</td>\n",
              "      <td>Beautify the interiors of your bedroom by havi...</td>\n",
              "      <td>[Color: Blue Pattern: Abstract, Size Name: Dou...</td>\n",
              "      <td>BS EXPORTS</td>\n",
              "      <td>1084</td>\n",
              "    </tr>\n",
              "    <tr>\n",
              "      <th>1505684</th>\n",
              "      <td>BS EXPORTS Ludo King Size Bed Sheets with Pill...</td>\n",
              "      <td>Beautify the interiors of your bedroom by havi...</td>\n",
              "      <td>[Color: Red Pattern: Abstract, Size Name: Doub...</td>\n",
              "      <td>BS EXPORTS</td>\n",
              "      <td>1084</td>\n",
              "    </tr>\n",
              "    <tr>\n",
              "      <th>1587798</th>\n",
              "      <td>BS Exports Ahmadabad Checks 210 TC Double Bed ...</td>\n",
              "      <td>NaN</td>\n",
              "      <td>[Material: Pure Satin Twill | Thread Count: 21...</td>\n",
              "      <td>BS EXPORTS</td>\n",
              "      <td>1084</td>\n",
              "    </tr>\n",
              "    <tr>\n",
              "      <th>1690845</th>\n",
              "      <td>BS EXPORTS Cotton 144 TC Bedsheet (Black &amp; Whi...</td>\n",
              "      <td>Give your room a vibrant look and feel with co...</td>\n",
              "      <td>[Large size to make it easy to tuck-in below t...</td>\n",
              "      <td>BS EXPORTS</td>\n",
              "      <td>1084</td>\n",
              "    </tr>\n",
              "    <tr>\n",
              "      <th>1836205</th>\n",
              "      <td>BS EXPORTS Luxurious 210 TC Striped Cotton Bed...</td>\n",
              "      <td>NaN</td>\n",
              "      <td>[Material: Cotton, Thread Count: 210,Color: Mu...</td>\n",
              "      <td>BS EXPORTS</td>\n",
              "      <td>1084</td>\n",
              "    </tr>\n",
              "    <tr>\n",
              "      <th>1983452</th>\n",
              "      <td>NaN</td>\n",
              "      <td>NaN</td>\n",
              "      <td>Pack Contents - 1 double bedsheet with 2 pillo...</td>\n",
              "      <td>BS EXPORTS</td>\n",
              "      <td>1084</td>\n",
              "    </tr>\n",
              "    <tr>\n",
              "      <th>2146522</th>\n",
              "      <td>BS Exports Cotton 144TC Bedsheet (Twin_Cream)</td>\n",
              "      <td>Home is the first thing that comes to mind whe...</td>\n",
              "      <td>[World Famous Rajasthani Prints for an elegant...</td>\n",
              "      <td>BS EXPORTS</td>\n",
              "      <td>1084</td>\n",
              "    </tr>\n",
              "    <tr>\n",
              "      <th>2719521</th>\n",
              "      <td>BS EXPORTS Long Mustard Yellow Gown With Gotta...</td>\n",
              "      <td>&lt;b&gt;Beautiful Mustard Long Gown With Gotta Lace...</td>\n",
              "      <td>[Fabric:- Slub Cotton : Color:- Mustard Yellow...</td>\n",
              "      <td>BS EXPORTS</td>\n",
              "      <td>1251</td>\n",
              "    </tr>\n",
              "  </tbody>\n",
              "</table>\n",
              "</div>"
            ],
            "text/plain": [
              "                                                     TITLE  ... BROWSE_NODE_ID\n",
              "51410         BS EXPORTS Cotton 210TC Bedsheet (King_Pink)  ...           1084\n",
              "52552    BS EXPORTS 210 TC Twill Cotton Double Bedsheet...  ...           1084\n",
              "141311   BS EXPORTS Cotton 210TC Pillow Cover (18\"X27\"_...  ...            108\n",
              "212830       BS EXPORTS Cotton 210TC Bedsheet (King_White)  ...           1084\n",
              "430039   BS EXPORTS 104 TC Jaipuri Traditional Elephant...  ...           1084\n",
              "733574   BS EXPORTS Jaipuri Traditional Mandala 144 TC ...  ...           1084\n",
              "1462402  BS EXPORTS Rangeela Rajasthan Cotton Queen Siz...  ...           1084\n",
              "1505684  BS EXPORTS Ludo King Size Bed Sheets with Pill...  ...           1084\n",
              "1587798  BS Exports Ahmadabad Checks 210 TC Double Bed ...  ...           1084\n",
              "1690845  BS EXPORTS Cotton 144 TC Bedsheet (Black & Whi...  ...           1084\n",
              "1836205  BS EXPORTS Luxurious 210 TC Striped Cotton Bed...  ...           1084\n",
              "1983452                                                NaN  ...           1084\n",
              "2146522      BS Exports Cotton 144TC Bedsheet (Twin_Cream)  ...           1084\n",
              "2719521  BS EXPORTS Long Mustard Yellow Gown With Gotta...  ...           1251\n",
              "\n",
              "[14 rows x 5 columns]"
            ]
          },
          "metadata": {
            "tags": []
          },
          "execution_count": 37
        }
      ]
    },
    {
      "cell_type": "code",
      "metadata": {
        "colab": {
          "base_uri": "https://localhost:8080/"
        },
        "id": "vhbchz3Ka8MD",
        "outputId": "70d89c1f-fbd6-4190-c3a7-d54e866bcf71"
      },
      "source": [
        "df.isnull().sum()"
      ],
      "execution_count": null,
      "outputs": [
        {
          "output_type": "execute_result",
          "data": {
            "text/plain": [
              "TITLE                 71\n",
              "DESCRIPTION       723664\n",
              "BULLET_POINTS     166263\n",
              "BRAND              56737\n",
              "BROWSE_NODE_ID         0\n",
              "dtype: int64"
            ]
          },
          "metadata": {
            "tags": []
          },
          "execution_count": 38
        }
      ]
    },
    {
      "cell_type": "code",
      "metadata": {
        "id": "FZace05ibryz"
      },
      "source": [
        "title_df.replace(-1,np.nan,inplace=True)"
      ],
      "execution_count": null,
      "outputs": []
    },
    {
      "cell_type": "code",
      "metadata": {
        "id": "QHItxju4MNVT"
      },
      "source": [
        "title_df.drop('DESCRIPTION',axis=1,inplace=True)"
      ],
      "execution_count": null,
      "outputs": []
    },
    {
      "cell_type": "code",
      "metadata": {
        "colab": {
          "base_uri": "https://localhost:8080/"
        },
        "id": "65WRHCxIb1O6",
        "outputId": "df6df4e9-7a78-4a64-cd30-f6b50fc24f81"
      },
      "source": [
        "title_df.isnull().sum()"
      ],
      "execution_count": null,
      "outputs": [
        {
          "output_type": "execute_result",
          "data": {
            "text/plain": [
              "TITLE                 14\n",
              "BULLET_POINTS     166263\n",
              "BRAND              56737\n",
              "BROWSE_NODE_ID         0\n",
              "dtype: int64"
            ]
          },
          "metadata": {
            "tags": []
          },
          "execution_count": 12
        }
      ]
    },
    {
      "cell_type": "code",
      "metadata": {
        "id": "RJhaiglBcWA5"
      },
      "source": [
        "# title_df.replace(np.nan,-1,inplace=True)"
      ],
      "execution_count": null,
      "outputs": []
    },
    {
      "cell_type": "code",
      "metadata": {
        "colab": {
          "base_uri": "https://localhost:8080/"
        },
        "id": "B2udpoFzbxFO",
        "outputId": "604cbb61-99d8-4f81-af6f-fc3d33075790"
      },
      "source": [
        "# new_df = title_df.dropna(subset=[\"DESCRIPTION\"])\n",
        "# new_df.isnull().sum()"
      ],
      "execution_count": null,
      "outputs": [
        {
          "output_type": "execute_result",
          "data": {
            "text/plain": [
              "TITLE             0    \n",
              "DESCRIPTION       0    \n",
              "BULLET_POINTS     62617\n",
              "BRAND             8571 \n",
              "BROWSE_NODE_ID    0    \n",
              "dtype: int64"
            ]
          },
          "metadata": {
            "tags": []
          },
          "execution_count": 11
        }
      ]
    },
    {
      "cell_type": "code",
      "metadata": {
        "id": "m2uop1TLikh-"
      },
      "source": [
        ""
      ],
      "execution_count": null,
      "outputs": []
    },
    {
      "cell_type": "code",
      "metadata": {
        "colab": {
          "base_uri": "https://localhost:8080/"
        },
        "id": "hfe3Q-U-hKnK",
        "outputId": "7acfb359-90e6-402d-d88c-39484ee4d43d"
      },
      "source": [
        "null_percentage(title_df)"
      ],
      "execution_count": null,
      "outputs": [
        {
          "output_type": "stream",
          "text": [
            "The percentage of null value in TITLE is 0.00048225574435485207\n",
            "The percentage of null value in BULLET_POINTS is 5.72723477311934\n",
            "The percentage of null value in BRAND is 1.9544102976758029\n",
            "There are no null values\n"
          ],
          "name": "stdout"
        }
      ]
    },
    {
      "cell_type": "code",
      "metadata": {
        "id": "opmxWglONB9-"
      },
      "source": [
        "new_df = title_df"
      ],
      "execution_count": null,
      "outputs": []
    },
    {
      "cell_type": "code",
      "metadata": {
        "colab": {
          "base_uri": "https://localhost:8080/"
        },
        "id": "EhL9XjFOhKsP",
        "outputId": "f5208ee7-5670-4165-da74-408fce06cb55"
      },
      "source": [
        "new_df.shape"
      ],
      "execution_count": null,
      "outputs": [
        {
          "output_type": "execute_result",
          "data": {
            "text/plain": [
              "(2903024, 5)"
            ]
          },
          "metadata": {
            "tags": []
          },
          "execution_count": 17
        }
      ]
    },
    {
      "cell_type": "code",
      "metadata": {
        "colab": {
          "base_uri": "https://localhost:8080/",
          "height": 419
        },
        "id": "Rzuw4rAac1Tz",
        "outputId": "e73b45b2-c337-4332-b047-dbca8d35fb56"
      },
      "source": [
        "new_df[new_df[\"BULLET_POINTS\"].isnull()]"
      ],
      "execution_count": null,
      "outputs": [
        {
          "output_type": "execute_result",
          "data": {
            "text/html": [
              "<div>\n",
              "<style scoped>\n",
              "    .dataframe tbody tr th:only-of-type {\n",
              "        vertical-align: middle;\n",
              "    }\n",
              "\n",
              "    .dataframe tbody tr th {\n",
              "        vertical-align: top;\n",
              "    }\n",
              "\n",
              "    .dataframe thead th {\n",
              "        text-align: right;\n",
              "    }\n",
              "</style>\n",
              "<table border=\"1\" class=\"dataframe\">\n",
              "  <thead>\n",
              "    <tr style=\"text-align: right;\">\n",
              "      <th></th>\n",
              "      <th>TITLE</th>\n",
              "      <th>DESCRIPTION</th>\n",
              "      <th>BULLET_POINTS</th>\n",
              "      <th>BRAND</th>\n",
              "      <th>BROWSE_NODE_ID</th>\n",
              "    </tr>\n",
              "  </thead>\n",
              "  <tbody>\n",
              "    <tr>\n",
              "      <th>4</th>\n",
              "      <td>Teacher Planner Company A4 6 Lesson Academic T...</td>\n",
              "      <td>Teacher Planner Company A4 6 Lesson Academic T...</td>\n",
              "      <td>NaN</td>\n",
              "      <td>NaN</td>\n",
              "      <td>4</td>\n",
              "    </tr>\n",
              "    <tr>\n",
              "      <th>9</th>\n",
              "      <td>Chapin 1380 Premier Pro 3-Gallon Tri-Poxy Stee...</td>\n",
              "      <td>Chapin 1380 Premier Pro 3-Gallon Tri-Poxy Stee...</td>\n",
              "      <td>NaN</td>\n",
              "      <td>Chapin International</td>\n",
              "      <td>9</td>\n",
              "    </tr>\n",
              "    <tr>\n",
              "      <th>10</th>\n",
              "      <td>Slo-Niacin Polygel Controlled-Release Niacin, ...</td>\n",
              "      <td>Slo-Niacin Polygel Controlled-Release Niacin, ...</td>\n",
              "      <td>NaN</td>\n",
              "      <td>NaN</td>\n",
              "      <td>10</td>\n",
              "    </tr>\n",
              "    <tr>\n",
              "      <th>27</th>\n",
              "      <td>ALL GLASS AQUARIUM Pine Cabinet 24\" Oak</td>\n",
              "      <td>These quality pine stands and canopies are con...</td>\n",
              "      <td>NaN</td>\n",
              "      <td>NaN</td>\n",
              "      <td>27</td>\n",
              "    </tr>\n",
              "    <tr>\n",
              "      <th>30</th>\n",
              "      <td>NTE 1151 IC Linear</td>\n",
              "      <td>IC-AUDIO MODULE</td>\n",
              "      <td>NaN</td>\n",
              "      <td>NTE Electronics</td>\n",
              "      <td>30</td>\n",
              "    </tr>\n",
              "    <tr>\n",
              "      <th>...</th>\n",
              "      <td>...</td>\n",
              "      <td>...</td>\n",
              "      <td>...</td>\n",
              "      <td>...</td>\n",
              "      <td>...</td>\n",
              "    </tr>\n",
              "    <tr>\n",
              "      <th>2902919</th>\n",
              "      <td>SKENT - Avengers Action Figure Models with LED...</td>\n",
              "      <td>Avengers Age Of Ultron Action Figure Iron Man ...</td>\n",
              "      <td>NaN</td>\n",
              "      <td>SKENT</td>\n",
              "      <td>55</td>\n",
              "    </tr>\n",
              "    <tr>\n",
              "      <th>2902928</th>\n",
              "      <td>truth eagle Women's Faux Georgette Saree with ...</td>\n",
              "      <td>This Saree Will Present You More Glamorous And...</td>\n",
              "      <td>NaN</td>\n",
              "      <td>Generic</td>\n",
              "      <td>1052</td>\n",
              "    </tr>\n",
              "    <tr>\n",
              "      <th>2902936</th>\n",
              "      <td>Compatible Remote Control for Videocon D2H Dig...</td>\n",
              "      <td>Compatible Remote Control For Videocon D2H Dig...</td>\n",
              "      <td>NaN</td>\n",
              "      <td>Kishore Traders</td>\n",
              "      <td>449</td>\n",
              "    </tr>\n",
              "    <tr>\n",
              "      <th>2902957</th>\n",
              "      <td>Nature's Elixir Testosterone Booster. 60 Capsules</td>\n",
              "      <td>Testosterone Booster</td>\n",
              "      <td>NaN</td>\n",
              "      <td>Nature's Elixir</td>\n",
              "      <td>8766</td>\n",
              "    </tr>\n",
              "    <tr>\n",
              "      <th>2903023</th>\n",
              "      <td>KNG Orange Polo Tshirt (38)</td>\n",
              "      <td>Performance inspired by comfort. The polo shir...</td>\n",
              "      <td>NaN</td>\n",
              "      <td>KNG</td>\n",
              "      <td>1213</td>\n",
              "    </tr>\n",
              "  </tbody>\n",
              "</table>\n",
              "<p>66793 rows × 5 columns</p>\n",
              "</div>"
            ],
            "text/plain": [
              "                                                     TITLE  ... BROWSE_NODE_ID\n",
              "4        Teacher Planner Company A4 6 Lesson Academic T...  ...              4\n",
              "9        Chapin 1380 Premier Pro 3-Gallon Tri-Poxy Stee...  ...              9\n",
              "10       Slo-Niacin Polygel Controlled-Release Niacin, ...  ...             10\n",
              "27                 ALL GLASS AQUARIUM Pine Cabinet 24\" Oak  ...             27\n",
              "30                                      NTE 1151 IC Linear  ...             30\n",
              "...                                                    ...  ...            ...\n",
              "2902919  SKENT - Avengers Action Figure Models with LED...  ...             55\n",
              "2902928  truth eagle Women's Faux Georgette Saree with ...  ...           1052\n",
              "2902936  Compatible Remote Control for Videocon D2H Dig...  ...            449\n",
              "2902957  Nature's Elixir Testosterone Booster. 60 Capsules  ...           8766\n",
              "2903023                        KNG Orange Polo Tshirt (38)  ...           1213\n",
              "\n",
              "[66793 rows x 5 columns]"
            ]
          },
          "metadata": {
            "tags": []
          },
          "execution_count": 67
        }
      ]
    },
    {
      "cell_type": "code",
      "metadata": {
        "colab": {
          "base_uri": "https://localhost:8080/"
        },
        "id": "5Fe1VUiQjjiJ",
        "outputId": "8948e00e-2e08-402a-b5e9-f0dc13223edb"
      },
      "source": [
        "new_df.shape"
      ],
      "execution_count": null,
      "outputs": [
        {
          "output_type": "execute_result",
          "data": {
            "text/plain": [
              "(2206995, 5)"
            ]
          },
          "metadata": {
            "tags": []
          },
          "execution_count": 68
        }
      ]
    },
    {
      "cell_type": "code",
      "metadata": {
        "colab": {
          "base_uri": "https://localhost:8080/"
        },
        "id": "nMMefV5LjG--",
        "outputId": "be87d791-8335-4ee9-ac74-107eefb788a4"
      },
      "source": [
        "new_df = new_df.dropna(subset=[\"BULLET_POINTS\"])\n",
        "new_df.isnull().sum()"
      ],
      "execution_count": null,
      "outputs": [
        {
          "output_type": "execute_result",
          "data": {
            "text/plain": [
              "TITLE                4\n",
              "BULLET_POINTS        0\n",
              "BRAND             7217\n",
              "BROWSE_NODE_ID       0\n",
              "dtype: int64"
            ]
          },
          "metadata": {
            "tags": []
          },
          "execution_count": 20
        }
      ]
    },
    {
      "cell_type": "code",
      "metadata": {
        "colab": {
          "base_uri": "https://localhost:8080/"
        },
        "id": "mJsMHzNwjrXd",
        "outputId": "cd198edf-e85e-4fbf-a1f1-e9cbebfaeef9"
      },
      "source": [
        "new_df.shape"
      ],
      "execution_count": null,
      "outputs": [
        {
          "output_type": "execute_result",
          "data": {
            "text/plain": [
              "(2196542, 5)"
            ]
          },
          "metadata": {
            "tags": []
          },
          "execution_count": 70
        }
      ]
    },
    {
      "cell_type": "code",
      "metadata": {
        "colab": {
          "base_uri": "https://localhost:8080/"
        },
        "id": "8xELKVfHjtvW",
        "outputId": "22d87042-94ed-4472-9686-5bdda29919b6"
      },
      "source": [
        "new_df.nunique()"
      ],
      "execution_count": null,
      "outputs": [
        {
          "output_type": "execute_result",
          "data": {
            "text/plain": [
              "TITLE             2087552\n",
              "DESCRIPTION       1296755\n",
              "BULLET_POINTS     1336122\n",
              "BRAND              238443\n",
              "BROWSE_NODE_ID       9704\n",
              "dtype: int64"
            ]
          },
          "metadata": {
            "tags": []
          },
          "execution_count": 71
        }
      ]
    },
    {
      "cell_type": "code",
      "metadata": {
        "colab": {
          "base_uri": "https://localhost:8080/"
        },
        "id": "1TRKowrhj1Je",
        "outputId": "1a81dec2-43ec-4e2a-c666-92c41c8e3676"
      },
      "source": [
        "new_df = new_df.dropna(subset=[\"BRAND\"])\n",
        "new_df.isnull().sum()"
      ],
      "execution_count": null,
      "outputs": [
        {
          "output_type": "execute_result",
          "data": {
            "text/plain": [
              "TITLE             4\n",
              "BULLET_POINTS     0\n",
              "BRAND             0\n",
              "BROWSE_NODE_ID    0\n",
              "dtype: int64"
            ]
          },
          "metadata": {
            "tags": []
          },
          "execution_count": 21
        }
      ]
    },
    {
      "cell_type": "code",
      "metadata": {
        "colab": {
          "base_uri": "https://localhost:8080/"
        },
        "id": "p6CFl-hHNpcd",
        "outputId": "1c1ca4bc-c989-4ee7-83c6-cb532ffab2ce"
      },
      "source": [
        "new_df = new_df.dropna(subset=[\"TITLE\"])\n",
        "new_df.isnull().sum()"
      ],
      "execution_count": null,
      "outputs": [
        {
          "output_type": "execute_result",
          "data": {
            "text/plain": [
              "TITLE             0\n",
              "BULLET_POINTS     0\n",
              "BRAND             0\n",
              "BROWSE_NODE_ID    0\n",
              "dtype: int64"
            ]
          },
          "metadata": {
            "tags": []
          },
          "execution_count": 22
        }
      ]
    },
    {
      "cell_type": "code",
      "metadata": {
        "colab": {
          "base_uri": "https://localhost:8080/"
        },
        "id": "h2k5P2hkkOPs",
        "outputId": "3c54a47e-a865-4c22-c392-86981241dbde"
      },
      "source": [
        "new_df.shape"
      ],
      "execution_count": null,
      "outputs": [
        {
          "output_type": "execute_result",
          "data": {
            "text/plain": [
              "(2134056, 5)"
            ]
          },
          "metadata": {
            "tags": []
          },
          "execution_count": 77
        }
      ]
    },
    {
      "cell_type": "code",
      "metadata": {
        "id": "bqYjjg1Dkqix"
      },
      "source": [
        "new_df.to_csv(\"nulls_removed.csv\",index=False)"
      ],
      "execution_count": null,
      "outputs": []
    },
    {
      "cell_type": "code",
      "metadata": {
        "id": "yP-MuV77xK61"
      },
      "source": [
        ""
      ],
      "execution_count": null,
      "outputs": []
    }
  ]
}